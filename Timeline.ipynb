{
 "cells": [
  {
   "cell_type": "markdown",
   "id": "5bbe55ef-92ba-4db3-a0d3-f41779b12c51",
   "metadata": {},
   "source": [
    "## Timeline\n",
    "<br>\n",
    "<br>"
   ]
  },
  {
   "cell_type": "markdown",
   "id": "3c555ba3-89be-4178-9644-0b079c4218e3",
   "metadata": {},
   "source": [
    "__4/10:__  \n",
    "Embedding  \n",
    "Positional Encoding  \n",
    "Encoder  \n",
    "Decoder\n",
    "Data\n",
    "\n",
    "__4/17:__  \n",
    "Bug Fixes  \n",
    "Testing  \n",
    "Begin Training\n",
    "\n",
    "__4/23:__  \n",
    "Optimize  \n",
    "Add the modifications\n",
    "\n",
    "__4/30:__    \n",
    "Train in parallel with different hyperparameters"
   ]
  },
  {
   "cell_type": "code",
   "execution_count": null,
   "id": "b4544699-01e1-4897-9c40-856020acc661",
   "metadata": {},
   "outputs": [],
   "source": []
  }
 ],
 "metadata": {
  "kernelspec": {
   "display_name": "Python 3 (ipykernel)",
   "language": "python",
   "name": "python3"
  },
  "language_info": {
   "codemirror_mode": {
    "name": "ipython",
    "version": 3
   },
   "file_extension": ".py",
   "mimetype": "text/x-python",
   "name": "python",
   "nbconvert_exporter": "python",
   "pygments_lexer": "ipython3",
   "version": "3.9.7"
  }
 },
 "nbformat": 4,
 "nbformat_minor": 5
}
