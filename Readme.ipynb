{
 "cells": [
  {
   "cell_type": "markdown",
   "id": "0abec3cf-214f-45a6-8e64-0bbc93d0cbbe",
   "metadata": {},
   "source": [
    "# Read Me\n",
    "\n",
    "# Team Members\n",
    "Kendra Givens\n",
    "\n",
    "George Maddux\n",
    "\n",
    "Kim Nguyen\n",
    "\n",
    "Dennis Bandavong\n",
    "\n",
    "Ankit Bhusal\n",
    "\n",
    "\n"
   ]
  },
  {
   "cell_type": "markdown",
   "id": "7cb0d579-53ff-414a-b4a8-1bfdf5315a35",
   "metadata": {},
   "source": [
    "# Project Title: Albert Einstein ChatBot\n",
    "Hello Everyone!\n",
    "\n",
    "Welcome to group Sigmoid from CSCI 4850-Neural Networks Course taught by Dr. Phillips. The goal of this project is to build a generative chatbot based on Albert Einstein.A chatbot is a computer program that simulates human conversation.  The user will be provided with an interface to type messages to our program, which will respond in kind.The chatbot trains on Einstein's letters and research papers. The chatbot uses the transformer model. "
   ]
  },
  {
   "cell_type": "markdown",
   "id": "21d577c9-206b-469b-8145-bc2ec402eea4",
   "metadata": {},
   "source": [
    "For you to understand this project better and observe the demo, it is advised for you to use Jupyter Lab. We performed our every testing purposes in Jupyterlab so it would be easier for you to understand the project better if performed on the same platform. If you do not already have JupyterHub installed in your system, please check the following link: https://jupyter.org/install. to intsall in your system. \n",
    "\n",
    "It is recommended to have Python3 version installed in your system.  Please check the following link: https://www.python.org/downloads/\n",
    "\n",
    "After everything has been installed in your system, Open the JupyterHub in your system. Go to your terminal and\n",
    "\n",
    "type: pip install opencv-python and run the command for Jupyterhub to run everything to your system. \n",
    " \n",
    "\n",
    "If you are not comfortable using JupyterHub, the alternate platform you can use is GoogleCollab. \n",
    "The link to use the Collab is : https://www.google.com/url?sa=t&rct=j&q=&esrc=s&source=web&cd=&ved=2ahUKEwj606z9lb_3AhUjSN8KHQi6DzAQFnoECAMQAQ&url=https%3A%2F%2Fresearch.google.com%2Fcolaboratory%2F&usg=AOvVaw38J01zt_Dlb6pQ1fe6FGrI\n",
    "\n",
    "\n",
    "\n",
    "\n",
    "\n",
    "\n",
    "\n",
    "\n"
   ]
  },
  {
   "cell_type": "code",
   "execution_count": null,
   "id": "3d41ac63-7c0a-4e16-a120-b48532104bbf",
   "metadata": {},
   "outputs": [],
   "source": []
  }
 ],
 "metadata": {
  "kernelspec": {
   "display_name": "Python 3 (ipykernel)",
   "language": "python",
   "name": "python3"
  },
  "language_info": {
   "codemirror_mode": {
    "name": "ipython",
    "version": 3
   },
   "file_extension": ".py",
   "mimetype": "text/x-python",
   "name": "python",
   "nbconvert_exporter": "python",
   "pygments_lexer": "ipython3",
   "version": "3.9.7"
  }
 },
 "nbformat": 4,
 "nbformat_minor": 5
}
