{
 "cells": [
  {
   "cell_type": "markdown",
   "id": "0abec3cf-214f-45a6-8e64-0bbc93d0cbbe",
   "metadata": {},
   "source": [
    "# Read Me\n",
    "\n",
    "# Team Members\n",
    "Kendra Givens\n",
    "\n",
    "George Maddux\n",
    "\n",
    "Kim Nguyen\n",
    "\n",
    "Dennis Bandavong\n",
    "\n",
    "Ankit Bhusal\n",
    "\n",
    "\n"
   ]
  },
  {
   "cell_type": "markdown",
   "id": "7cb0d579-53ff-414a-b4a8-1bfdf5315a35",
   "metadata": {},
   "source": [
    "# Project Title: Albert Einstein ChatBot\n",
    "Hello Everyone!\n",
    "\n",
    "Welcome! We are group Sigmoid from CSCI 4850-Neural Networks Course taught by Dr. Phillips at Middle Tennesse State University. The goal of our project was to build a generative chatbot trained on Albert Einstein's letters and research papers. \n We selected the transformer architecture for this task." 
   ]
  },
  {
   "cell_type": "markdown",
   "id": "21d577c9-206b-469b-8145-bc2ec402eea4",
   "metadata": {},
   "source": [
    "For you to complete the demo, you must have Juptyer Lab installed. If you do not already have JupyterHub installed in your system, please click the following link: https://jupyter.org/install to install it in your system. \n",
    "\n",
    "You will also require the Python3 version installed in your system. Please go to following link: https://www.python.org/downloads/ to download.\n",
    "\n",
    "After everything has been installed in your system, Open JupyterHub and create a new terminal.\n",
    "\n",
    "Type: pip install opencv-python to install python3. \n",
    "\n",
    
    "\n",
    "\n",
    "\n",
    "\n",
    "\n",
    "\n",
    "\n",
    "\n",
    "\n"
   ]
  },
  {
   "cell_type": "code",
   "execution_count": null,
   "id": "3d41ac63-7c0a-4e16-a120-b48532104bbf",
   "metadata": {},
   "outputs": [],
   "source": []
  }
 ],
 "metadata": {
  "kernelspec": {
   "display_name": "Python 3 (ipykernel)",
   "language": "python",
   "name": "python3"
  },
  "language_info": {
   "codemirror_mode": {
    "name": "ipython",
    "version": 3
   },
   "file_extension": ".py",
   "mimetype": "text/x-python",
   "name": "python",
   "nbconvert_exporter": "python",
   "pygments_lexer": "ipython3",
   "version": "3.9.7"
  }
 },
 "nbformat": 4,
 "nbformat_minor": 5
}
