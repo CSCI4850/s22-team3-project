{
 "cells": [
  {
   "cell_type": "markdown",
   "id": "6263bd66-216e-437c-a5a9-1542110fde38",
   "metadata": {},
   "source": [
    "## Milestones \n",
    "<br>\n",
    "<br>"
   ]
  },
  {
   "cell_type": "markdown",
   "id": "8cccff32-d249-43b8-8074-47367e2725d1",
   "metadata": {},
   "source": [
    "__Week One__"
   ]
  },
  {
   "cell_type": "markdown",
   "id": "6d97d316-911a-4828-876e-2f8252711087",
   "metadata": {},
   "source": [
    "| __Deliverable__ | __Percent Complete__ | __Estimated Completion Date__ | __Percent Complete by Next Milestone__ |\n",
    "|-----------------|----------------------|-------------------------------|----------------------------------------|\n",
    "| Code            | 0%                   | 04/15/2022                    | 20%                                     |\n",
    "| Demo            | 0%                   | 04/23/2022                    | 0%                                     |\n",
    "| Presentation    | 0%                   | 05/01/2022                    | 0%                                     |"
   ]
  },
  {
   "cell_type": "markdown",
   "id": "24c80bad-1704-4e4a-adb3-5fda4d2e78a1",
   "metadata": {},
   "source": [
    "1. What deliverable goals established in the last milestone report were accomplished to the anticipated percentage?  \n",
    "\n",
    "* We researched self attention and transformer models. Specifically, we covered how self attention works with natural language processing and the encoder and decoder in the transformer architecutre. \n",
    "<br>\n",
    "\n",
    "2. What deliverable goals established in the last milestone report were were not accomplished to the\n",
    "anticipated percentage?  \n",
    "\n",
    "* We did not have a last milestone report.\n",
    "<br>\n",
    "\n",
    "3. What are the main deliverable goals to meet before the next milestone report, and who is working\n",
    "on them?\n",
    "\n",
    "* We would like to make sure everyone in the group has an understanding of how transformers and self attention works before the end of the week. Additionally, Kendra, George, and Kim will work on getting a transformer to work with a simple chatbot dataset. Ankit and Dennis will begin processing the real dataset we will use.\n",
    "<br>\n",
    "<br>"
   ]
  },
  {
   "cell_type": "markdown",
   "id": "f52bbf1a-0d44-46dd-beb8-8565050f1bc7",
   "metadata": {},
   "source": [
    "__Week Two__"
   ]
  },
  {
   "cell_type": "markdown",
   "id": "a9f9813e-979a-45ca-8fa9-323a187f0672",
   "metadata": {},
   "source": [
    "| __Deliverable__ | __Percent Complete__ | __Estimated Completion Date__ | __Percent Complete by Next Milestone__ |\n",
    "|-----------------|----------------------|-------------------------------|----------------------------------------|\n",
    "| Code            | 15%                  | 04/15/2022                    | 20%                                     |\n",
    "| Demo            | 0%                   | 04/23/2022                    | 0%                                     |\n",
    "| Presentation    | 0%                   | 05/01/2022                    | 0%                                     |"
   ]
  },
  {
   "cell_type": "markdown",
   "id": "9f3d3197-803d-4f60-be79-6bda3e1886d3",
   "metadata": {},
   "source": [
    "1. What deliverable goals established in the last milestone report were accomplished to the anticipated percentage?  \n",
    "\n",
    "* Everyone has a base understanding of the way a transformer works. Kim and Kendra have been studied example transformer implementations to try and get a basic transformer working. We have also begun the proccess of labeling the dataset. \n",
    "<br>\n",
    "2. What deliverable goals established in the last milestone report were were not accomplished to the\n",
    "anticipated percentage?  \n",
    "\n",
    "* We have not written as much code as we would have liked. \n",
    "<br>\n",
    "\n",
    "3. What are the main deliverable goals to meet before the next milestone report, and who is working\n",
    "on them?\n",
    "\n",
    "* Kendra, Kim, and George will continue working on writing the transformer code. Ankit and Dennis will finish labeling the data. \n",
    "<br>"
   ]
  }
 ],
 "metadata": {
  "kernelspec": {
   "display_name": "Python 3 (ipykernel)",
   "language": "python",
   "name": "python3"
  },
  "language_info": {
   "codemirror_mode": {
    "name": "ipython",
    "version": 3
   },
   "file_extension": ".py",
   "mimetype": "text/x-python",
   "name": "python",
   "nbconvert_exporter": "python",
   "pygments_lexer": "ipython3",
   "version": "3.9.7"
  }
 },
 "nbformat": 4,
 "nbformat_minor": 5
}
