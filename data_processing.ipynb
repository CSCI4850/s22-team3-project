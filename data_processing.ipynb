{
 "cells": [
  {
   "cell_type": "code",
   "execution_count": 111,
   "id": "546d7ab6-14a7-44e8-965b-3b7472914f9c",
   "metadata": {},
   "outputs": [],
   "source": [
    "# Import what we need for the job...\n",
    "import tensorflow as tf\n",
    "import tensorflow.keras as keras\n",
    "import numpy as np\n",
    "import matplotlib.pyplot as plt\n",
    "%matplotlib inline\n",
    "# Visualization\n",
    "from IPython.display import display"
   ]
  },
  {
   "cell_type": "code",
   "execution_count": 112,
   "id": "2292e42b-63f7-4875-aa8f-194f811ca539",
   "metadata": {},
   "outputs": [],
   "source": [
    "data_file = open('datavol.txt').read()\n",
    "lines = data_file.lower().split('.') #create an array of sentences\n",
    "text = []\n",
    "for i in range(len(lines)): #toss out short sentences, primarily to remove \",\" and such\n",
    "    if len(lines[i]) > 8:\n",
    "        text = text + [lines[i]]\n",
    "interim_data = np.vstack([[text[0:-1]],[text[1:]]]).T #make a 2d array of input/output pairs of sentences\n",
    "deletion_indices = []\n",
    "for i in range(len(interim_data)): #check which pairs start with the end of a letter\n",
    "    if((interim_data[i,1][1] == '\\n' and interim_data[i,1][2] == '\\n')):\n",
    "        deletion_indices = deletion_indices + [i]\n",
    "data = np.delete(interim_data, deletion_indices, 0) #remove those pairs that start with the end of a letter\n",
    "data = np.char.lstrip(data, ' ') #remove leading spaces\n",
    "for i in range(4): #remove leading endline characters\n",
    "    data = np.char.lstrip(data, '\\n')"
   ]
  },
  {
   "cell_type": "code",
   "execution_count": 113,
   "id": "f4720593-3603-4050-bdd8-cbb9ed9ac50b",
   "metadata": {},
   "outputs": [
    {
     "data": {
      "text/plain": [
       "(1487, 2)"
      ]
     },
     "execution_count": 113,
     "metadata": {},
     "output_type": "execute_result"
    }
   ],
   "source": [
    "data.shape"
   ]
  },
  {
   "cell_type": "code",
   "execution_count": 114,
   "id": "6420186a-bb9e-4ef9-a60b-9130eee8c484",
   "metadata": {},
   "outputs": [
    {
     "data": {
      "text/plain": [
       "array(['my train leaves in 2 hours',\n",
       "       'as regards health, incidentally, i am feeling infinitely better than last year'],\n",
       "      dtype='<U475')"
      ]
     },
     "execution_count": 114,
     "metadata": {},
     "output_type": "execute_result"
    }
   ],
   "source": [
    "data[5]"
   ]
  },
  {
   "cell_type": "code",
   "execution_count": 115,
   "id": "e04c1207-9e65-450f-b73c-63b4b22a0930",
   "metadata": {},
   "outputs": [
    {
     "data": {
      "text/plain": [
       "array(['with brilliant sunshine and sweet chocolate, it’s grand to read about the goings on in berlin from up here',\n",
       "       'monday the schoolmastering begins'], dtype='<U475')"
      ]
     },
     "execution_count": 115,
     "metadata": {},
     "output_type": "execute_result"
    }
   ],
   "source": [
    "data[6]"
   ]
  },
  {
   "cell_type": "code",
   "execution_count": null,
   "id": "f040cd2e-dac9-48c3-853d-c18431366b9b",
   "metadata": {},
   "outputs": [],
   "source": []
  }
 ],
 "metadata": {
  "kernelspec": {
   "display_name": "Python 3 (ipykernel)",
   "language": "python",
   "name": "python3"
  },
  "language_info": {
   "codemirror_mode": {
    "name": "ipython",
    "version": 3
   },
   "file_extension": ".py",
   "mimetype": "text/x-python",
   "name": "python",
   "nbconvert_exporter": "python",
   "pygments_lexer": "ipython3",
   "version": "3.9.7"
  }
 },
 "nbformat": 4,
 "nbformat_minor": 5
}
