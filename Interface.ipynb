{
 "cells": [
  {
   "cell_type": "code",
   "execution_count": 68,
   "id": "bef3d79d-e088-497b-9d1c-1660c0abda4f",
   "metadata": {},
   "outputs": [],
   "source": [
    "from __future__ import print_function\n",
    "from ipywidgets import interact, interactive, fixed, interact_manual\n",
    "import ipywidgets as widgets\n",
    "from IPython.display import display, clear_output"
   ]
  },
  {
   "cell_type": "code",
   "execution_count": 69,
   "id": "b4a3dd45-204f-4943-a3a4-93998853d54c",
   "metadata": {},
   "outputs": [
    {
     "name": "stdout",
     "output_type": "stream",
     "text": [
      "Enabling notebook extension jupyter-js-widgets/extension...\n",
      "      - Validating: \u001b[32mOK\u001b[0m\n",
      "Enabling: voila\n",
      "- Writing config: /opt/conda/etc/jupyter\n",
      "    - Validating...\n",
      "Error loading server extension voila\n",
      "     \u001b[31m X\u001b[0m is voila importable?\n"
     ]
    }
   ],
   "source": [
    "!jupyter nbextension enable --py widgetsnbextension --sys-prefix\n",
    "!jupyter serverextension enable voila --sys-prefix"
   ]
  },
  {
   "cell_type": "code",
   "execution_count": 70,
   "id": "b9cfc569-6f2c-45a0-8a27-164574c5d29d",
   "metadata": {},
   "outputs": [],
   "source": [
    "# Image Widget\n",
    "\n",
    "file = open(\"Einstein.png\", \"rb\")\n",
    "image = file.read()\n",
    "\n",
    "image_headline = widgets.Image(\n",
    "                    value=image,\n",
    "                    format='jpg',\n",
    "                    width='300'\n",
    "                )\n",
    "\n",
    "vbox_headline = widgets.VBox([image_headline])"
   ]
  },
  {
   "cell_type": "code",
   "execution_count": 71,
   "id": "9dbddd32-52ff-4562-8aca-94f49786a0b7",
   "metadata": {},
   "outputs": [],
   "source": [
    "Talk = widgets.ToggleButtons(\n",
    "            options=['Talk']\n",
    "        )"
   ]
  },
  {
   "cell_type": "code",
   "execution_count": 88,
   "id": "1bad7114-6afd-4d3b-b8d2-c28227a36c35",
   "metadata": {},
   "outputs": [],
   "source": [
    "name = widgets.Text(placeholder='Enter your name')"
   ]
  },
  {
   "cell_type": "code",
   "execution_count": 73,
   "id": "1884d34f-574e-40da-ba81-f0534b97ceec",
   "metadata": {},
   "outputs": [],
   "source": [
    "type_here = widgets.Text(placeholder='Type here')"
   ]
  },
  {
   "cell_type": "code",
   "execution_count": 110,
   "id": "62c1d9a7-13dd-4f5c-984b-4fb8745c62ac",
   "metadata": {},
   "outputs": [],
   "source": [
    "button_send = widgets.Button(\n",
    "                description='Click to send',\n",
    "                tooltip='Send',\n",
    "                style={'description_width': 'initial'}\n",
    "            )\n",
    "\n",
    "output = widgets.Output()\n",
    "\n",
    "def on_button_clicked(event):\n",
    "    with output:\n",
    "        clear_output()\n",
    "        print('Dear', name.value, ',')\n",
    "        print(output)\n",
    "       \n",
    "button_send.on_click(on_button_clicked)\n",
    "\n",
    "vbox_result = widgets.VBox([button_send, output])\n",
    "#vbox_goodbye = widgets.VBox["
   ]
  },
  {
   "cell_type": "code",
   "execution_count": 111,
   "id": "0d7be46a-7ee0-4d29-a7e0-bb3eb945b282",
   "metadata": {},
   "outputs": [],
   "source": [
    "Dear = widgets.HTML(value=\"<h1>Dear !</h1>\")\n",
    "Sincerely = widgets.HTML(value=\"<h1>Sincerely, Einstein !</h1>\")\n",
    "vbox_text = widgets.VBox([name, type_here, vbox_result])\n"
   ]
  },
  {
   "cell_type": "code",
   "execution_count": 112,
   "id": "a583c73d-687f-4f93-8604-c005ad409690",
   "metadata": {},
   "outputs": [
    {
     "data": {
      "application/vnd.jupyter.widget-view+json": {
       "model_id": "105646dbe1734e9abf5a1ae96bcd085d",
       "version_major": 2,
       "version_minor": 0
      },
      "text/plain": [
       "HBox(children=(VBox(children=(Image(value=b'\\x89PNG\\r\\n\\x1a\\n\\x00\\x00\\x00\\rIHDR\\x00\\x00\\x02m\\x00\\x00\\x02[\\x08\\…"
      ]
     },
     "metadata": {},
     "output_type": "display_data"
    }
   ],
   "source": [
    "page = widgets.HBox([vbox_headline, vbox_text])\n",
    "display(page)"
   ]
  },
  {
   "cell_type": "code",
   "execution_count": null,
   "id": "262deeb1-3cd5-466c-8608-7bda0f3063f1",
   "metadata": {},
   "outputs": [],
   "source": []
  },
  {
   "cell_type": "code",
   "execution_count": null,
   "id": "6f441d48-2238-4239-a262-1ccdeb5e98fa",
   "metadata": {},
   "outputs": [],
   "source": []
  }
 ],
 "metadata": {
  "kernelspec": {
   "display_name": "Python 3 (ipykernel)",
   "language": "python",
   "name": "python3"
  },
  "language_info": {
   "codemirror_mode": {
    "name": "ipython",
    "version": 3
   },
   "file_extension": ".py",
   "mimetype": "text/x-python",
   "name": "python",
   "nbconvert_exporter": "python",
   "pygments_lexer": "ipython3",
   "version": "3.9.7"
  }
 },
 "nbformat": 4,
 "nbformat_minor": 5
}
