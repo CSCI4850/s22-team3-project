{
 "cells": [
  {
   "cell_type": "code",
   "execution_count": 1,
   "id": "055d219c-7ed3-4a4e-b8f0-a458410cb2a8",
   "metadata": {},
   "outputs": [
    {
     "name": "stdout",
     "output_type": "stream",
     "text": [
      "Note: you may need to restart the kernel to use updated packages.\n"
     ]
    }
   ],
   "source": [
    "pip install -q \"tensorflow-text==2.8.*\""
   ]
  },
  {
   "cell_type": "code",
   "execution_count": 2,
   "id": "4e194b59-cb00-408a-9d70-6c3d49e3f4c3",
   "metadata": {},
   "outputs": [
    {
     "name": "stderr",
     "output_type": "stream",
     "text": [
      "2022-04-19 21:33:33.018198: W tensorflow/stream_executor/platform/default/dso_loader.cc:64] Could not load dynamic library 'libcudart.so.11.0'; dlerror: libcudart.so.11.0: cannot open shared object file: No such file or directory\n",
      "2022-04-19 21:33:33.018267: I tensorflow/stream_executor/cuda/cudart_stub.cc:29] Ignore above cudart dlerror if you do not have a GPU set up on your machine.\n"
     ]
    }
   ],
   "source": [
    "import tensorflow as tf\n",
    "from tensorflow import keras\n",
    "from tensorflow.keras.preprocessing.text import Tokenizer\n",
    "import numpy as np\n",
    "import warnings\n",
    "warnings.filterwarnings('always')\n",
    "warnings.filterwarnings('ignore')"
   ]
  },
  {
   "cell_type": "code",
   "execution_count": 3,
   "id": "cb1a58c9-78c2-4baf-8a53-381718036a0d",
   "metadata": {},
   "outputs": [
    {
     "data": {
      "text/plain": [
       "[' the important thing is not to stop questioning',\n",
       " ' curiosity has its own reason for existence',\n",
       " ' one cannot help but be in awe when he contemplates the mysteries of eternity, of life, of the marvelous structure of reality',\n",
       " ' it is enough if one tries merely to comprehend a little of this mystery each day',\n",
       " '']"
      ]
     },
     "execution_count": 3,
     "metadata": {},
     "output_type": "execute_result"
    }
   ],
   "source": [
    "#Open data\n",
    "data_file = open('Data.txt').read()\n",
    "data_file\n",
    "\n",
    "#Create tokenizer object\n",
    "tokenizer = Tokenizer()\n",
    "\n",
    "#Convert data to lowercase\n",
    "data = data_file.lower().split('.')\n",
    "data"
   ]
  },
  {
   "cell_type": "code",
   "execution_count": 4,
   "id": "0d1fe98a-4014-4277-9a9a-fdf108e29cb4",
   "metadata": {},
   "outputs": [
    {
     "data": {
      "text/plain": [
       "['<start> the important thing is not to stop questioning <end>',\n",
       " '<start> curiosity has its own reason for existence <end>',\n",
       " '<start> one cannot help but be in awe when he contemplates the mysteries of eternity, of life, of the marvelous structure of reality <end>',\n",
       " '<start> it is enough if one tries merely to comprehend a little of this mystery each day <end>',\n",
       " '<start> <end>']"
      ]
     },
     "execution_count": 4,
     "metadata": {},
     "output_type": "execute_result"
    }
   ],
   "source": [
    "###Add start stop tokens###\n",
    "start_token = '<start>'\n",
    "end_token = ' <end>'\n",
    "\n",
    "for sentence in range(len(data)) :\n",
    "    data[sentence] = start_token + data[sentence]\n",
    "    \n",
    "for sentence in range(len(data)) :\n",
    "    data[sentence] = data[sentence] + end_token\n",
    "    \n",
    "data"
   ]
  },
  {
   "cell_type": "code",
   "execution_count": 5,
   "id": "edc4a1c9-4250-467c-b5dc-f59d2aadb659",
   "metadata": {},
   "outputs": [],
   "source": [
    "def Encode_Inputs(data, max_sentence_length):\n",
    "    #Create dictionary of words with the frequency they occur\n",
    "    #Every word gets unique value > 0\n",
    "    #0 is reserved for padding\n",
    "    tokenizer.fit_on_texts(data)\n",
    "\n",
    "    #Transforms sentences into set of integers from the dictionary\n",
    "    input_sequences = tokenizer.texts_to_sequences(data)\n",
    "\n",
    "    #Pad sequences to length of max_length\n",
    "    input_sequences = tf.keras.preprocessing.sequence.pad_sequences(input_sequences, maxlen = max_sentence_length, padding ='post', value = 0)\n",
    "\n",
    "    #Counts total words\n",
    "    total_words = len(tokenizer.word_index) + 1\n",
    "    #input_sequences = np.delete(input_sequences, 4, axis=0)\n",
    "    \n",
    "    return input_sequences, total_words"
   ]
  },
  {
   "cell_type": "code",
   "execution_count": 6,
   "id": "d166913f-aa0f-4e49-8f83-c747860a72f8",
   "metadata": {},
   "outputs": [],
   "source": [
    "def Decode_Inputs(input_sequences):\n",
    "    data = tokenizer.sequences_to_texts(input_sequences)\n",
    "    return data"
   ]
  },
  {
   "cell_type": "code",
   "execution_count": 7,
   "id": "081c3d8a-97ea-49f4-8cad-293976b8dc71",
   "metadata": {},
   "outputs": [],
   "source": [
    "def Create_Output_Sequences(input_sequences):\n",
    "    #Shift array by one to create targets\n",
    "    #Last item is all 0s because it is not used\n",
    "    roll_amount = input_sequences.shape[1] * (input_sequences.shape[0]-1)\n",
    "    output_sequences = np.array(np.roll(input_sequences, roll_amount))\n",
    "    output_sequences[-1] = 0\n",
    "\n",
    "    return output_sequences"
   ]
  },
  {
   "cell_type": "code",
   "execution_count": 16,
   "id": "6e92d255-0556-47c6-99a9-1bbea5c352f8",
   "metadata": {},
   "outputs": [],
   "source": [
    "class Transformer_Block(keras.layers.Layer):\n",
    "    def __init__(self, num_heads, embed_dim, ff_dim, dropout):\n",
    "        super(Transformer_Block, self).__init__()\n",
    "        self.attention = keras.layers.MultiHeadAttention(num_heads = num_heads, key_dim = embed_dim)\n",
    "        self.layer_norm1 = keras.layers.LayerNormalization(epsilon = 1e-6)\n",
    "        self.feed_forward = keras.Sequential([keras.layers.Dense(ff_dim, activation = \"gelu\"), keras.layers.Dense(embed_dim)])\n",
    "        self.layer_norm2 = keras.layers.LayerNormalization(epsilon = 1e-6)\n",
    "        self.layernorm2 = keras.layers.LayerNormalization(epsilon=1e-6)\n",
    "        self.dropout1 = keras.layers.Dropout(dropout)\n",
    "        self.dropout2 = keras.layers.Dropout(dropout)\n",
    "        \n",
    "    def call(self, embedded_words, training):\n",
    "        attention_output = self.attention(embedded_words, embedded_words)\n",
    "        attention_output = self.dropout1(attention_output, training=training)\n",
    "        #Residual connections from input to add/norm\n",
    "        res1 = self.layer_norm1(embedded_words + attention_output)\n",
    "        ffn_output = self.feed_forward(res1)\n",
    "        ffn_output = self.dropout2(ffn_output, training=training)\n",
    "        #Residual connections from add/norm to add/norm\n",
    "        final_output = self.layer_norm2(ffn_output + res1)\n",
    "        return final_output"
   ]
  },
  {
   "cell_type": "code",
   "execution_count": 9,
   "id": "5650ff2b-af08-48d2-87ac-48cd5c7c55d4",
   "metadata": {},
   "outputs": [],
   "source": [
    "class MaskedTransformerBlock(keras.layers.Layer):\n",
    "    def __init__(self, embed_dim, num_heads, ff_dim, rate=0.1):\n",
    "        super(MaskedTransformerBlock, self).__init__()\n",
    "        self.att1 = keras.layers.MultiHeadAttention(num_heads=num_heads,\n",
    "        key_dim=embed_dim)\n",
    "        self.att2 = keras.layers.MultiHeadAttention(num_heads=num_heads,\n",
    "        key_dim=embed_dim)\n",
    "        self.ffn = keras.Sequential(\n",
    "        [keras.layers.Dense(ff_dim, activation=\"gelu\"),\n",
    "        keras.layers.Dense(embed_dim),]\n",
    "        )\n",
    "        self.layernorm1 = keras.layers.LayerNormalization(epsilon=1e-6)\n",
    "        self.layernorm2 = keras.layers.LayerNormalization(epsilon=1e-6)\n",
    "        self.layernorm3 = keras.layers.LayerNormalization(epsilon=1e-6)\n",
    "        self.dropout1 = keras.layers.Dropout(rate)\n",
    "        self.dropout2 = keras.layers.Dropout(rate)\n",
    "        self.dropout3 = keras.layers.Dropout(rate)\n",
    "        \n",
    "    def causal_attention_mask(self, batch_size, n_dest, n_src, dtype):\n",
    "        i = tf.range(n_dest)[:, None]\n",
    "        j = tf.range(n_src)\n",
    "        m = i >= j - n_src + n_dest\n",
    "        mask = tf.cast(m, dtype)\n",
    "        mask = tf.reshape(mask, [1, n_dest, n_src])\n",
    "        mult = tf.concat(\n",
    "        [tf.expand_dims(batch_size, -1), tf.constant([1, 1], dtype=tf.int32)], 0\n",
    "        )\n",
    "        return tf.tile(mask, mult)\n",
    "\n",
    "    def call(self, inputs, training):\n",
    "        input_shape = tf.shape(inputs[0])\n",
    "        batch_size = input_shape[0]\n",
    "        seq_len = input_shape[1]\n",
    "        mask = self.causal_attention_mask(batch_size,\n",
    "        seq_len, seq_len,\n",
    "        tf.bool)\n",
    "        attn_output1 = self.att1(inputs[0], inputs[0],\n",
    "        attention_mask = mask)\n",
    "        attn_output1 = self.dropout1(attn_output1, training=training)\n",
    "        out1 = self.layernorm1(inputs[0] + attn_output1)\n",
    "        attn_output2 = self.att2(out1, inputs[1])\n",
    "        attn_output2 = self.dropout2(attn_output2, training=training)\n",
    "        out2 = self.layernorm1(out1 + attn_output2)\n",
    "        ffn_output = self.ffn(out2)\n",
    "        ffn_output = self.dropout3(ffn_output, training=training)\n",
    "        return self.layernorm2(out2 + ffn_output)"
   ]
  },
  {
   "cell_type": "code",
   "execution_count": 10,
   "id": "6c145eb4-0c49-441e-94c6-86d653871b13",
   "metadata": {},
   "outputs": [],
   "source": [
    "class MaskedTokenAndPositionEmbedding(keras.layers.Layer):\n",
    "    def __init__(self, maxlen, vocab_size, embed_dim):\n",
    "        super(MaskedTokenAndPositionEmbedding, self).__init__()\n",
    "        self.token_emb = keras.layers.Embedding(input_dim=vocab_size,\n",
    "        output_dim=embed_dim,\n",
    "        mask_zero=True)\n",
    "        self.pos_emb = keras.layers.Embedding(input_dim=maxlen+1,\n",
    "        output_dim=embed_dim,\n",
    "        mask_zero=True)\n",
    " \n",
    "    def call(self, x):\n",
    "        maxlen = tf.shape(x)[-1]\n",
    "        positions = tf.range(start=1, limit=maxlen+1, delta=1)\n",
    "        positions = positions * tf.cast(tf.sign(x),tf.int32)\n",
    "        positions = self.pos_emb(positions)\n",
    "        x = self.token_emb(x)\n",
    "        return x + positions"
   ]
  },
  {
   "cell_type": "code",
   "execution_count": 69,
   "id": "7c07a114-b6c4-42f5-b5b0-729fae888653",
   "metadata": {},
   "outputs": [],
   "source": [
    "#Pool context with input of encoder and output of decoder \n",
    "#Perform self attention \n",
    "class Multi_Head_Attention_Pooling(keras.layers.Layer):\n",
    "    def __init__(self, num_heads, embed_dim, dropout, context):\n",
    "        super(Multi_Head_Attention_Pooling, self).__init__()\n",
    "        self.context_input_layer = keras.layers.Input(shape=context.shape[0:])\n",
    "        self.attention = keras.layers.MultiHeadAttention(num_heads = num_heads, key_dim = embed_dim)\n",
    "    #List of two tensors\n",
    "    def call(self, input_data):\n",
    "        attention_output = self.attention(input_data[0], input_data[1])\n",
    "        #Perform self attention after attention pooling \n",
    "        self_attention_output = self.attention(attention_output, attention_output)\n",
    "        input_data[1] = self_attention_output\n",
    "        return input_data[1]"
   ]
  },
  {
   "cell_type": "code",
   "execution_count": 12,
   "id": "9f76ed9c-20bd-4c9e-8d06-b648800af126",
   "metadata": {},
   "outputs": [],
   "source": [
    "loss_object = tf.keras.losses.SparseCategoricalCrossentropy(from_logits=True, reduction='none')\n",
    "def MaskedSparseCategoricalCrossentropy(real, pred):\n",
    "    mask = tf.math.logical_not(tf.math.equal(real, 0))\n",
    "    loss_ = loss_object(real, pred)\n",
    "    mask = tf.cast(mask, dtype=loss_.dtype)\n",
    "    loss_ *= mask\n",
    "    return tf.reduce_sum(loss_)/tf.reduce_sum(mask)\n",
    "def MaskedSparseCategoricalAccuracy(real, pred):\n",
    "    accuracies = tf.equal(tf.cast(real,tf.int64), tf.argmax(pred, axis=2))\n",
    "    mask = tf.math.logical_not(tf.math.equal(real, 0))\n",
    "    accuracies = tf.math.logical_and(mask, accuracies)\n",
    "    accuracies = tf.cast(accuracies, dtype=tf.float32)"
   ]
  },
  {
   "cell_type": "code",
   "execution_count": 13,
   "id": "19cbc45a-62b6-42e1-b0bb-cba88376f79f",
   "metadata": {},
   "outputs": [
    {
     "name": "stdout",
     "output_type": "stream",
     "text": [
      "47\n",
      "(5, 20)\n",
      "[[ 1  4  8  9  5 10  6 11 12  2  0  0  0  0  0  0  0  0  0  0]\n",
      " [ 1 13 14 15 16 17 18 19  2  0  0  0  0  0  0  0  0  0  0  0]\n",
      " [22 23 24 25 26 27 28  4 29  3 30  3 31  3  4 32 33  3 34  2]\n",
      " [ 1 35  5 36 37  7 38 39  6 40 41 42  3 43 44 45 46  2  0  0]\n",
      " [ 1  2  0  0  0  0  0  0  0  0  0  0  0  0  0  0  0  0  0  0]]\n"
     ]
    },
    {
     "data": {
      "text/plain": [
       "['start the important thing is not to stop questioning end',\n",
       " 'start curiosity has its own reason for existence end',\n",
       " 'but be in awe when he contemplates the mysteries of eternity of life of the marvelous structure of reality end',\n",
       " 'start it is enough if one tries merely to comprehend a little of this mystery each day end',\n",
       " 'start end']"
      ]
     },
     "execution_count": 13,
     "metadata": {},
     "output_type": "execute_result"
    }
   ],
   "source": [
    "max_sentence_length = 20\n",
    "\n",
    "input_sequences, total_words = Encode_Inputs(data, max_sentence_length)\n",
    "print(total_words)\n",
    "print(input_sequences.shape)\n",
    "print(input_sequences)\n",
    "\n",
    "decoded = Decode_Inputs(input_sequences)\n",
    "decoded"
   ]
  },
  {
   "cell_type": "code",
   "execution_count": 14,
   "id": "42365413-181f-4190-8e2c-ae17e843a7b5",
   "metadata": {},
   "outputs": [
    {
     "name": "stdout",
     "output_type": "stream",
     "text": [
      "(5, 20)\n",
      "[[ 1 13 14 15 16 17 18 19  2  0  0  0  0  0  0  0  0  0  0  0]\n",
      " [22 23 24 25 26 27 28  4 29  3 30  3 31  3  4 32 33  3 34  2]\n",
      " [ 1 35  5 36 37  7 38 39  6 40 41 42  3 43 44 45 46  2  0  0]\n",
      " [ 1  2  0  0  0  0  0  0  0  0  0  0  0  0  0  0  0  0  0  0]\n",
      " [ 0  0  0  0  0  0  0  0  0  0  0  0  0  0  0  0  0  0  0  0]]\n"
     ]
    },
    {
     "data": {
      "text/plain": [
       "['start curiosity has its own reason for existence end',\n",
       " 'but be in awe when he contemplates the mysteries of eternity of life of the marvelous structure of reality end',\n",
       " 'start it is enough if one tries merely to comprehend a little of this mystery each day end',\n",
       " 'start end',\n",
       " '']"
      ]
     },
     "execution_count": 14,
     "metadata": {},
     "output_type": "execute_result"
    }
   ],
   "source": [
    "output_sequences = Create_Output_Sequences(input_sequences)\n",
    "print(output_sequences.shape)\n",
    "print(output_sequences)\n",
    "\n",
    "decoded = Decode_Inputs(output_sequences)\n",
    "decoded"
   ]
  },
  {
   "cell_type": "code",
   "execution_count": 114,
   "id": "cb6c77cf-f7e0-4f8a-9768-5dbecb290529",
   "metadata": {},
   "outputs": [],
   "source": [
    "#Encoder\n",
    "embed_dim = 512\n",
    "data = input_sequences\n",
    "training = True\n",
    "total_words = total_words\n",
    "max_sentence_length = max_sentence_length\n",
    "num_heads = 8 \n",
    "ff_dim = 16\n",
    "dropout = 0.15\n",
    "\n",
    "encoder_stack = 1\n",
    "decoder_stack = 1\n",
    "\n",
    "input_layer = keras.layers.Input(shape=input_sequences.shape[1])\n",
    "\n",
    "position_embedding_layer =  MaskedTokenAndPositionEmbedding(input_sequences.shape[1], total_words, embed_dim)(input_layer)\n",
    "\n",
    "#Dropout\n",
    "\n",
    "encoder = position_embedding_layer\n",
    "\n",
    "for i in range(encoder_stack):\n",
    "    encoder = Transformer_Block(num_heads, embed_dim, ff_dim, dropout)(encoder)\n",
    "    \n",
    "context = encoder\n",
    "\n",
    "context = Multi_Head_Attention_Pooling(num_heads, embed_dim, dropout, encoder)([encoder, context])\n",
    "\n",
    "encoder = Transformer_Block(num_heads, embed_dim, ff_dim, dropout)(context)\n",
    "\n",
    "encoder_model = keras.Model(input_layer, encoder, name='Encoder')\n",
    "#keras.utils.plot_model(encoder_model,show_shapes=True,expand_nested=True)"
   ]
  },
  {
   "cell_type": "code",
   "execution_count": 126,
   "id": "1f95dbc3-8bd5-4ef4-924b-dc7696b1f1a9",
   "metadata": {},
   "outputs": [
    {
     "ename": "ValueError",
     "evalue": "Graph disconnected: cannot obtain value for tensor KerasTensor(type_spec=TensorSpec(shape=(None, 20), dtype=tf.float32, name='input_173'), name='input_173', description=\"created by layer 'input_173'\") at layer \"masked_token_and_position_embedding_83\". The following previous layers were accessed without issue: []",
     "output_type": "error",
     "traceback": [
      "\u001b[0;31m---------------------------------------------------------------------------\u001b[0m",
      "\u001b[0;31mValueError\u001b[0m                                Traceback (most recent call last)",
      "\u001b[0;32m/tmp/ipykernel_3115305/3171283808.py\u001b[0m in \u001b[0;36m<module>\u001b[0;34m\u001b[0m\n\u001b[1;32m     16\u001b[0m \u001b[0mcontext\u001b[0m \u001b[0;34m=\u001b[0m \u001b[0mMulti_Head_Attention_Pooling\u001b[0m\u001b[0;34m(\u001b[0m\u001b[0mnum_heads\u001b[0m\u001b[0;34m,\u001b[0m \u001b[0membed_dim\u001b[0m\u001b[0;34m,\u001b[0m \u001b[0mdropout\u001b[0m\u001b[0;34m,\u001b[0m \u001b[0mcontext\u001b[0m\u001b[0;34m)\u001b[0m\u001b[0;34m(\u001b[0m\u001b[0;34m[\u001b[0m\u001b[0mdecoder\u001b[0m\u001b[0;34m,\u001b[0m \u001b[0mcontext\u001b[0m\u001b[0;34m]\u001b[0m\u001b[0;34m)\u001b[0m\u001b[0;34m\u001b[0m\u001b[0;34m\u001b[0m\u001b[0m\n\u001b[1;32m     17\u001b[0m \u001b[0;34m\u001b[0m\u001b[0m\n\u001b[0;32m---> 18\u001b[0;31m \u001b[0mdecoder_model\u001b[0m \u001b[0;34m=\u001b[0m \u001b[0mkeras\u001b[0m\u001b[0;34m.\u001b[0m\u001b[0mModel\u001b[0m\u001b[0;34m(\u001b[0m\u001b[0;34m[\u001b[0m\u001b[0minput_layer\u001b[0m\u001b[0;34m,\u001b[0m \u001b[0mencoder_input_layer\u001b[0m\u001b[0;34m]\u001b[0m\u001b[0;34m,\u001b[0m \u001b[0;34m[\u001b[0m\u001b[0mlinear_layer\u001b[0m\u001b[0;34m,\u001b[0m \u001b[0mcontext\u001b[0m\u001b[0;34m]\u001b[0m\u001b[0;34m,\u001b[0m \u001b[0mname\u001b[0m\u001b[0;34m=\u001b[0m\u001b[0;34m\"Decoder\"\u001b[0m\u001b[0;34m)\u001b[0m\u001b[0;34m\u001b[0m\u001b[0;34m\u001b[0m\u001b[0m\n\u001b[0m\u001b[1;32m     19\u001b[0m \u001b[0mkeras\u001b[0m\u001b[0;34m.\u001b[0m\u001b[0mutils\u001b[0m\u001b[0;34m.\u001b[0m\u001b[0mplot_model\u001b[0m\u001b[0;34m(\u001b[0m\u001b[0mdecoder_model\u001b[0m\u001b[0;34m,\u001b[0m\u001b[0mshow_shapes\u001b[0m\u001b[0;34m=\u001b[0m\u001b[0;32mTrue\u001b[0m\u001b[0;34m,\u001b[0m\u001b[0mexpand_nested\u001b[0m\u001b[0;34m=\u001b[0m\u001b[0;32mTrue\u001b[0m\u001b[0;34m)\u001b[0m\u001b[0;34m\u001b[0m\u001b[0;34m\u001b[0m\u001b[0m\n",
      "\u001b[0;32m/opt/conda/lib/python3.9/site-packages/tensorflow/python/training/tracking/base.py\u001b[0m in \u001b[0;36m_method_wrapper\u001b[0;34m(self, *args, **kwargs)\u001b[0m\n\u001b[1;32m    627\u001b[0m     \u001b[0mself\u001b[0m\u001b[0;34m.\u001b[0m\u001b[0m_self_setattr_tracking\u001b[0m \u001b[0;34m=\u001b[0m \u001b[0;32mFalse\u001b[0m  \u001b[0;31m# pylint: disable=protected-access\u001b[0m\u001b[0;34m\u001b[0m\u001b[0;34m\u001b[0m\u001b[0m\n\u001b[1;32m    628\u001b[0m     \u001b[0;32mtry\u001b[0m\u001b[0;34m:\u001b[0m\u001b[0;34m\u001b[0m\u001b[0;34m\u001b[0m\u001b[0m\n\u001b[0;32m--> 629\u001b[0;31m       \u001b[0mresult\u001b[0m \u001b[0;34m=\u001b[0m \u001b[0mmethod\u001b[0m\u001b[0;34m(\u001b[0m\u001b[0mself\u001b[0m\u001b[0;34m,\u001b[0m \u001b[0;34m*\u001b[0m\u001b[0margs\u001b[0m\u001b[0;34m,\u001b[0m \u001b[0;34m**\u001b[0m\u001b[0mkwargs\u001b[0m\u001b[0;34m)\u001b[0m\u001b[0;34m\u001b[0m\u001b[0;34m\u001b[0m\u001b[0m\n\u001b[0m\u001b[1;32m    630\u001b[0m     \u001b[0;32mfinally\u001b[0m\u001b[0;34m:\u001b[0m\u001b[0;34m\u001b[0m\u001b[0;34m\u001b[0m\u001b[0m\n\u001b[1;32m    631\u001b[0m       \u001b[0mself\u001b[0m\u001b[0;34m.\u001b[0m\u001b[0m_self_setattr_tracking\u001b[0m \u001b[0;34m=\u001b[0m \u001b[0mprevious_value\u001b[0m  \u001b[0;31m# pylint: disable=protected-access\u001b[0m\u001b[0;34m\u001b[0m\u001b[0;34m\u001b[0m\u001b[0m\n",
      "\u001b[0;32m/opt/conda/lib/python3.9/site-packages/keras/engine/functional.py\u001b[0m in \u001b[0;36m__init__\u001b[0;34m(self, inputs, outputs, name, trainable, **kwargs)\u001b[0m\n\u001b[1;32m    144\u001b[0m                   for t in tf.nest.flatten(inputs)]):\n\u001b[1;32m    145\u001b[0m         \u001b[0minputs\u001b[0m\u001b[0;34m,\u001b[0m \u001b[0moutputs\u001b[0m \u001b[0;34m=\u001b[0m \u001b[0mfunctional_utils\u001b[0m\u001b[0;34m.\u001b[0m\u001b[0mclone_graph_nodes\u001b[0m\u001b[0;34m(\u001b[0m\u001b[0minputs\u001b[0m\u001b[0;34m,\u001b[0m \u001b[0moutputs\u001b[0m\u001b[0;34m)\u001b[0m\u001b[0;34m\u001b[0m\u001b[0;34m\u001b[0m\u001b[0m\n\u001b[0;32m--> 146\u001b[0;31m     \u001b[0mself\u001b[0m\u001b[0;34m.\u001b[0m\u001b[0m_init_graph_network\u001b[0m\u001b[0;34m(\u001b[0m\u001b[0minputs\u001b[0m\u001b[0;34m,\u001b[0m \u001b[0moutputs\u001b[0m\u001b[0;34m)\u001b[0m\u001b[0;34m\u001b[0m\u001b[0;34m\u001b[0m\u001b[0m\n\u001b[0m\u001b[1;32m    147\u001b[0m \u001b[0;34m\u001b[0m\u001b[0m\n\u001b[1;32m    148\u001b[0m   \u001b[0;34m@\u001b[0m\u001b[0mtf\u001b[0m\u001b[0;34m.\u001b[0m\u001b[0m__internal__\u001b[0m\u001b[0;34m.\u001b[0m\u001b[0mtracking\u001b[0m\u001b[0;34m.\u001b[0m\u001b[0mno_automatic_dependency_tracking\u001b[0m\u001b[0;34m\u001b[0m\u001b[0;34m\u001b[0m\u001b[0m\n",
      "\u001b[0;32m/opt/conda/lib/python3.9/site-packages/tensorflow/python/training/tracking/base.py\u001b[0m in \u001b[0;36m_method_wrapper\u001b[0;34m(self, *args, **kwargs)\u001b[0m\n\u001b[1;32m    627\u001b[0m     \u001b[0mself\u001b[0m\u001b[0;34m.\u001b[0m\u001b[0m_self_setattr_tracking\u001b[0m \u001b[0;34m=\u001b[0m \u001b[0;32mFalse\u001b[0m  \u001b[0;31m# pylint: disable=protected-access\u001b[0m\u001b[0;34m\u001b[0m\u001b[0;34m\u001b[0m\u001b[0m\n\u001b[1;32m    628\u001b[0m     \u001b[0;32mtry\u001b[0m\u001b[0;34m:\u001b[0m\u001b[0;34m\u001b[0m\u001b[0;34m\u001b[0m\u001b[0m\n\u001b[0;32m--> 629\u001b[0;31m       \u001b[0mresult\u001b[0m \u001b[0;34m=\u001b[0m \u001b[0mmethod\u001b[0m\u001b[0;34m(\u001b[0m\u001b[0mself\u001b[0m\u001b[0;34m,\u001b[0m \u001b[0;34m*\u001b[0m\u001b[0margs\u001b[0m\u001b[0;34m,\u001b[0m \u001b[0;34m**\u001b[0m\u001b[0mkwargs\u001b[0m\u001b[0;34m)\u001b[0m\u001b[0;34m\u001b[0m\u001b[0;34m\u001b[0m\u001b[0m\n\u001b[0m\u001b[1;32m    630\u001b[0m     \u001b[0;32mfinally\u001b[0m\u001b[0;34m:\u001b[0m\u001b[0;34m\u001b[0m\u001b[0;34m\u001b[0m\u001b[0m\n\u001b[1;32m    631\u001b[0m       \u001b[0mself\u001b[0m\u001b[0;34m.\u001b[0m\u001b[0m_self_setattr_tracking\u001b[0m \u001b[0;34m=\u001b[0m \u001b[0mprevious_value\u001b[0m  \u001b[0;31m# pylint: disable=protected-access\u001b[0m\u001b[0;34m\u001b[0m\u001b[0;34m\u001b[0m\u001b[0m\n",
      "\u001b[0;32m/opt/conda/lib/python3.9/site-packages/keras/engine/functional.py\u001b[0m in \u001b[0;36m_init_graph_network\u001b[0;34m(self, inputs, outputs)\u001b[0m\n\u001b[1;32m    227\u001b[0m \u001b[0;34m\u001b[0m\u001b[0m\n\u001b[1;32m    228\u001b[0m     \u001b[0;31m# Keep track of the network's nodes and layers.\u001b[0m\u001b[0;34m\u001b[0m\u001b[0;34m\u001b[0m\u001b[0m\n\u001b[0;32m--> 229\u001b[0;31m     nodes, nodes_by_depth, layers, _ = _map_graph_network(\n\u001b[0m\u001b[1;32m    230\u001b[0m         self.inputs, self.outputs)\n\u001b[1;32m    231\u001b[0m     \u001b[0mself\u001b[0m\u001b[0;34m.\u001b[0m\u001b[0m_network_nodes\u001b[0m \u001b[0;34m=\u001b[0m \u001b[0mnodes\u001b[0m\u001b[0;34m\u001b[0m\u001b[0;34m\u001b[0m\u001b[0m\n",
      "\u001b[0;32m/opt/conda/lib/python3.9/site-packages/keras/engine/functional.py\u001b[0m in \u001b[0;36m_map_graph_network\u001b[0;34m(inputs, outputs)\u001b[0m\n\u001b[1;32m   1034\u001b[0m         \u001b[0;32mfor\u001b[0m \u001b[0mx\u001b[0m \u001b[0;32min\u001b[0m \u001b[0mtf\u001b[0m\u001b[0;34m.\u001b[0m\u001b[0mnest\u001b[0m\u001b[0;34m.\u001b[0m\u001b[0mflatten\u001b[0m\u001b[0;34m(\u001b[0m\u001b[0mnode\u001b[0m\u001b[0;34m.\u001b[0m\u001b[0mkeras_inputs\u001b[0m\u001b[0;34m)\u001b[0m\u001b[0;34m:\u001b[0m\u001b[0;34m\u001b[0m\u001b[0;34m\u001b[0m\u001b[0m\n\u001b[1;32m   1035\u001b[0m           \u001b[0;32mif\u001b[0m \u001b[0mid\u001b[0m\u001b[0;34m(\u001b[0m\u001b[0mx\u001b[0m\u001b[0;34m)\u001b[0m \u001b[0;32mnot\u001b[0m \u001b[0;32min\u001b[0m \u001b[0mcomputable_tensors\u001b[0m\u001b[0;34m:\u001b[0m\u001b[0;34m\u001b[0m\u001b[0;34m\u001b[0m\u001b[0m\n\u001b[0;32m-> 1036\u001b[0;31m             raise ValueError(\n\u001b[0m\u001b[1;32m   1037\u001b[0m                 \u001b[0;34mf'Graph disconnected: cannot obtain value for tensor {x} '\u001b[0m\u001b[0;34m\u001b[0m\u001b[0;34m\u001b[0m\u001b[0m\n\u001b[1;32m   1038\u001b[0m                 \u001b[0;34mf'at layer \"{layer.name}\". The following previous layers '\u001b[0m\u001b[0;34m\u001b[0m\u001b[0;34m\u001b[0m\u001b[0m\n",
      "\u001b[0;31mValueError\u001b[0m: Graph disconnected: cannot obtain value for tensor KerasTensor(type_spec=TensorSpec(shape=(None, 20), dtype=tf.float32, name='input_173'), name='input_173', description=\"created by layer 'input_173'\") at layer \"masked_token_and_position_embedding_83\". The following previous layers were accessed without issue: []"
     ]
    }
   ],
   "source": [
    "#Decoder \n",
    "input_layer = keras.layers.Input(shape = output_sequences.shape[1])\n",
    "\n",
    "encoder_input_layer = keras.layers.Input(shape = encoder_model.output_shape[1:])\n",
    "\n",
    "position_embedding_layer = MaskedTokenAndPositionEmbedding(output_sequences.shape[1], total_words, embed_dim)(input_layer)\n",
    "\n",
    "decoder = position_embedding_layer\n",
    "\n",
    "for i in range(decoder_stack):\n",
    "    decoder = MaskedTransformerBlock(embed_dim, num_heads, ff_dim, dropout)([decoder, encoder_input_layer])\n",
    "    \n",
    "linear_layer = keras.layers.Dense(max_sentence_length)(decoder)\n",
    "\n",
    "#Output of layer should go to encoder pooling\n",
    "context = Multi_Head_Attention_Pooling(num_heads, embed_dim, dropout, context)([decoder, context])\n",
    "\n",
    "decoder_model = keras.Model([input_layer, encoder_input_layer], [linear_layer, context], name=\"Decoder\")\n",
    "keras.utils.plot_model(decoder_model,show_shapes=True,expand_nested=True)"
   ]
  },
  {
   "cell_type": "code",
   "execution_count": null,
   "id": "8c6a6f3f-b50f-4bf1-a0af-d52c43bd6873",
   "metadata": {},
   "outputs": [],
   "source": [
    "encoder = keras.layers.Input(encoder_model.input_shape[1:])\n",
    "decoder= keras.layers.Input(decoder_model.input_shape[0][1:])\n",
    "\n",
    "\n",
    "transformer = decoder_model([decoder, encoder_model(encoder)])\n",
    "transformer= keras.Model([encoder, decoder],transformer)\n",
    "\n",
    "\n",
    "keras.utils.plot_model(transformer,show_shapes=True,expand_nested=True)"
   ]
  }
 ],
 "metadata": {
  "kernelspec": {
   "display_name": "Python 3 (ipykernel)",
   "language": "python",
   "name": "python3"
  },
  "language_info": {
   "codemirror_mode": {
    "name": "ipython",
    "version": 3
   },
   "file_extension": ".py",
   "mimetype": "text/x-python",
   "name": "python",
   "nbconvert_exporter": "python",
   "pygments_lexer": "ipython3",
   "version": "3.9.7"
  }
 },
 "nbformat": 4,
 "nbformat_minor": 5
}
