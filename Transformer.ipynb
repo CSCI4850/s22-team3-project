{
 "cells": [
  {
   "cell_type": "code",
   "execution_count": 2,
   "id": "055d219c-7ed3-4a4e-b8f0-a458410cb2a8",
   "metadata": {},
   "outputs": [
    {
     "name": "stdout",
     "output_type": "stream",
     "text": [
      "Note: you may need to restart the kernel to use updated packages.\n"
     ]
    }
   ],
   "source": [
    "pip install -q \"tensorflow-text==2.8.*\""
   ]
  },
  {
   "cell_type": "code",
   "execution_count": 3,
   "id": "4e194b59-cb00-408a-9d70-6c3d49e3f4c3",
   "metadata": {},
   "outputs": [
    {
     "name": "stderr",
     "output_type": "stream",
     "text": [
      "2022-04-15 21:14:12.287757: W tensorflow/stream_executor/platform/default/dso_loader.cc:64] Could not load dynamic library 'libcudart.so.11.0'; dlerror: libcudart.so.11.0: cannot open shared object file: No such file or directory\n",
      "2022-04-15 21:14:12.287839: I tensorflow/stream_executor/cuda/cudart_stub.cc:29] Ignore above cudart dlerror if you do not have a GPU set up on your machine.\n"
     ]
    }
   ],
   "source": [
    "import tensorflow as tf\n",
    "from tensorflow import keras\n",
    "from tensorflow.keras.preprocessing.text import Tokenizer\n",
    "import numpy as np\n",
    "import warnings\n",
    "warnings.filterwarnings('always')\n",
    "warnings.filterwarnings('ignore')"
   ]
  },
  {
   "cell_type": "code",
   "execution_count": 10,
   "id": "cb1a58c9-78c2-4baf-8a53-381718036a0d",
   "metadata": {},
   "outputs": [
    {
     "data": {
      "text/plain": [
       "['the important thing is not to stop questioning',\n",
       " ' curiosity has its own reason for existence',\n",
       " ' one cannot help but be in awe when he contemplates the mysteries of eternity, of life, of the marvelous structure of reality',\n",
       " ' it is enough if one tries merely to comprehend a little of this mystery each day',\n",
       " '']"
      ]
     },
     "execution_count": 10,
     "metadata": {},
     "output_type": "execute_result"
    }
   ],
   "source": [
    "#Open data\n",
    "data_file = open('Data.txt').read()\n",
    "data_file\n",
    "\n",
    "#Create tokenizer object\n",
    "tokenizer = Tokenizer()\n",
    "\n",
    "#Convert data to lowercase\n",
    "data = data_file.lower().split('.')\n",
    "data"
   ]
  },
  {
   "cell_type": "code",
   "execution_count": 67,
   "id": "0d1fe98a-4014-4277-9a9a-fdf108e29cb4",
   "metadata": {},
   "outputs": [],
   "source": [
    "###Add start stop tokens###"
   ]
  },
  {
   "cell_type": "code",
   "execution_count": 6,
   "id": "c6755cef-d59d-4ea1-942a-efe78bf8f450",
   "metadata": {},
   "outputs": [],
   "source": [
    "max_sentence_length = 20\n",
    "embed_dim = 128"
   ]
  },
  {
   "cell_type": "code",
   "execution_count": 29,
   "id": "edc4a1c9-4250-467c-b5dc-f59d2aadb659",
   "metadata": {},
   "outputs": [
    {
     "name": "stdout",
     "output_type": "stream",
     "text": [
      "(4, 20)\n",
      "45\n",
      "[[ 2  6  7  3  8  4  9 10  0  0  0  0  0  0  0  0  0  0  0  0]\n",
      " [11 12 13 14 15 16 17  0  0  0  0  0  0  0  0  0  0  0  0  0]\n",
      " [19 20 21 22 23 24 25 26  2 27  1 28  1 29  1  2 30 31  1 32]\n",
      " [33  3 34 35  5 36 37  4 38 39 40  1 41 42 43 44  0  0  0  0]]\n"
     ]
    }
   ],
   "source": [
    "#Create dictionary of words with the frequency they occur\n",
    "#Every word gets unique value > 0\n",
    "#0 is reserved for padding\n",
    "tokenizer.fit_on_texts(data)\n",
    "\n",
    "#Transforms sentences into set of integers from the dictionary\n",
    "input_sequences = tokenizer.texts_to_sequences(data)\n",
    "\n",
    "#Pad sequences to length of max_length\n",
    "input_sequences = tf.keras.preprocessing.sequence.pad_sequences(input_sequences, maxlen = max_sentence_length, padding ='post', value = 0)\n",
    "\n",
    "#Counts total words\n",
    "total_words = len(tokenizer.word_index) + 1\n",
    "input_sequences = np.delete(input_sequences, 4, axis=0)\n",
    "print(input_sequences.shape)\n",
    "print(total_words)\n",
    "print(input_sequences)"
   ]
  },
  {
   "cell_type": "code",
   "execution_count": 30,
   "id": "081c3d8a-97ea-49f4-8cad-293976b8dc71",
   "metadata": {},
   "outputs": [
    {
     "name": "stdout",
     "output_type": "stream",
     "text": [
      "(4, 20)\n",
      "[[11 12 13 14 15 16 17  0  0  0  0  0  0  0  0  0  0  0  0  0]\n",
      " [19 20 21 22 23 24 25 26  2 27  1 28  1 29  1  2 30 31  1 32]\n",
      " [33  3 34 35  5 36 37  4 38 39 40  1 41 42 43 44  0  0  0  0]\n",
      " [ 0  0  0  0  0  0  0  0  0  0  0  0  0  0  0  0  0  0  0  0]]\n"
     ]
    }
   ],
   "source": [
    "#Shift array by one to create targets\n",
    "#Last item is all 0s because it is not used\n",
    "roll_amount = input_sequences.shape[1] * (input_sequences.shape[0]-1)\n",
    "output_sequences = np.array(np.roll(input_sequences, roll_amount))\n",
    "output_sequences[-1] = 0\n",
    "print(output_sequences.shape)\n",
    "print(output_sequences)"
   ]
  },
  {
   "cell_type": "code",
   "execution_count": 87,
   "id": "419b14f4-2c47-4138-bc18-1ad2e2019e5c",
   "metadata": {},
   "outputs": [],
   "source": [
    "#Embed one input sentence at a time into a matrix of sentence length by embed_dim\n",
    "#Adds position embeddings to word matrix\n",
    "class Embed_Inputs(keras.layers.Layer):\n",
    "    def __init__(self, total_words, embed_dim, max_sentence_length):\n",
    "        super(Embed_Inputs, self).__init__()\n",
    "        self.embedding_layer = keras.layers.Embedding(input_dim = total_words, output_dim = embed_dim, mask_zero = True, input_length = max_sentence_length)\n",
    "        self.positions_layer = keras.layers.Embedding(input_dim = max_sentence_length, output_dim = embed_dim)\n",
    "        \n",
    "    def Call(self, data):\n",
    "        self.embedded_words = self.embedding_layer(data) + self.positions_layer(tf.range(max_sentence_length))\n",
    "        return self.embedded_words"
   ]
  },
  {
   "cell_type": "code",
   "execution_count": 55,
   "id": "6e92d255-0556-47c6-99a9-1bbea5c352f8",
   "metadata": {},
   "outputs": [],
   "source": [
    "class Transformer_Block(keras.layers.Layer):\n",
    "    def __init__(self, num_heads, embed_dim, ff_dim, dropout):\n",
    "        super(Transformer_Block, self).__init__()\n",
    "        self.attention = keras.layers.MultiHeadAttention(num_heads = num_heads, key_dim = embed_dim)\n",
    "        self.layer_norm1 = keras.layers.LayerNormalization(epsilon = 1e-6)\n",
    "        self.feed_forward = keras.Sequential([keras.layers.Dense(ff_dim, activation = \"relu\"), keras.layers.Dense(embed_dim)])\n",
    "        self.layer_norm2 = keras.layers.LayerNormalization(epsilon = 1e-6)\n",
    "        self.dropout = keras.layers.Dropout(dropout)\n",
    "        \n",
    "    def Call(self, embedded_words, training):\n",
    "        attention_output = self.attention(embedded_words, embedded_words)\n",
    "        attention_output = self.dropout1(attention_output, training=training)\n",
    "        #Residual connections from input to add/norm\n",
    "        res1 = self.layer_norm1(embedded_words + attention_output)\n",
    "        ffn_output = self.feed_forward(res1)\n",
    "        ffn_output = self.dropout2(ffn_output, training=training)\n",
    "        #Residual connections from add/norm to add/norm\n",
    "        final_output = self.layer_norm2(ffn_output + res1)\n",
    "        return final_output"
   ]
  },
  {
   "cell_type": "code",
   "execution_count": 33,
   "id": "5650ff2b-af08-48d2-87ac-48cd5c7c55d4",
   "metadata": {},
   "outputs": [],
   "source": [
    "class MaskedTransformerBlock(keras.layers.Layer):\n",
    "    def __init__(self, embed_dim, num_heads, ff_dim, rate=0.1):\n",
    "        super(MaskedTransformerBlock, self).__init__()\n",
    "        self.att1 = keras.layers.MultiHeadAttention(num_heads=num_heads,\n",
    "        key_dim=embed_dim)\n",
    "        self.att2 = keras.layers.MultiHeadAttention(num_heads=num_heads,\n",
    "        key_dim=embed_dim)\n",
    "        self.ffn = keras.Sequential(\n",
    "        [keras.layers.Dense(ff_dim, activation=\"gelu\"),\n",
    "        keras.layers.Dense(embed_dim),]\n",
    "        )\n",
    "        self.layernorm1 = keras.layers.LayerNormalization(epsilon=1e-6)\n",
    "        self.layernorm2 = keras.layers.LayerNormalization(epsilon=1e-6)\n",
    "        self.layernorm3 = keras.layers.LayerNormalization(epsilon=1e-6)\n",
    "        self.dropout1 = keras.layers.Dropout(rate)\n",
    "        self.dropout2 = keras.layers.Dropout(rate)\n",
    "        self.dropout3 = keras.layers.Dropout(rate)\n",
    "        \n",
    "    def Causal_Attention_Mask(self, batch_size, n_dest, n_src, dtype):\n",
    "        i = tf.range(n_dest)[:, None]\n",
    "        j = tf.range(n_src)\n",
    "        m = i >= j - n_src + n_dest\n",
    "        mask = tf.cast(m, dtype)\n",
    "        mask = tf.reshape(mask, [1, n_dest, n_src])\n",
    "        mult = tf.concat(\n",
    "        [tf.expand_dims(batch_size, -1), tf.constant([1, 1], dtype=tf.int32)], 0\n",
    "        )\n",
    "        return tf.tile(mask, mult)\n",
    "\n",
    "    def Call(self, inputs, training):\n",
    "        input_shape = tf.shape(inputs[0])\n",
    "        batch_size = input_shape[0]\n",
    "        seq_len = input_shape[1]\n",
    "        mask = self.causal_attention_mask(batch_size,\n",
    "        seq_len, seq_len,\n",
    "        tf.bool)\n",
    "        attn_output1 = self.att1(inputs[0], inputs[0],\n",
    "        attention_mask = mask)\n",
    "        attn_output1 = self.dropout1(attn_output1, training=training)\n",
    "        out1 = self.layernorm1(inputs[0] + attn_output1)\n",
    "        attn_output2 = self.att2(out1, inputs[1])\n",
    "        attn_output2 = self.dropout2(attn_output2, training=training)\n",
    "        out2 = self.layernorm1(out1 + attn_output2)\n",
    "        ffn_output = self.ffn(out2)\n",
    "        ffn_output = self.dropout3(ffn_output, training=training)\n",
    "        return self.layernorm2(out2 + ffn_output)"
   ]
  },
  {
   "cell_type": "code",
   "execution_count": 70,
   "id": "6c145eb4-0c49-441e-94c6-86d653871b13",
   "metadata": {},
   "outputs": [],
   "source": [
    "class MaskedTokenAndPositionEmbedding(keras.layers.Layer):\n",
    "    def __init__(self, maxlen, vocab_size, embed_dim):\n",
    "        super(MaskedTokenAndPositionEmbedding, self).__init__()\n",
    "        self.token_emb = keras.layers.Embedding(input_dim=vocab_size,\n",
    "        output_dim=embed_dim,\n",
    "        mask_zero=True)\n",
    "        self.pos_emb = keras.layers.Embedding(input_dim=maxlen+1,\n",
    "        output_dim=embed_dim,\n",
    "        mask_zero=True)\n",
    " \n",
    "    def Call(self, x):\n",
    "        maxlen = tf.shape(x)[-1]\n",
    "        positions = tf.range(start=1, limit=maxlen+1, delta=1)\n",
    "        positions = positions * tf.cast(tf.sign(x),tf.int32)\n",
    "        positions = self.pos_emb(positions)\n",
    "        x = self.token_emb(x)\n",
    "        return x + positions"
   ]
  },
  {
   "cell_type": "code",
   "execution_count": 89,
   "id": "3dbcb98a-cff0-4eab-989d-9033b9c5a4b7",
   "metadata": {
    "tags": []
   },
   "outputs": [],
   "source": [
    "class Encoder(keras.layers.Layer):\n",
    "    def __init__(self, data, training, total_words, embed_dim, max_sentence_length, num_heads, ff_dim, dropout):\n",
    "        super(Encoder, self).__init__()\n",
    "        self.embeddings = Embed_Inputs(total_words, embed_dim, max_sentence_length)\n",
    "        self.transformer_block = Transformer_Block(num_heads, embed_dim, ff_dim, dropout)\n",
    "        \n",
    "    def Call(self, data):\n",
    "        embeddings_output = self.embeddings.Forward(data)\n",
    "        transformer_block_output = self.transformer_block.Forward(embeddings_output, training)\n",
    "        return transformer_block_output"
   ]
  },
  {
   "cell_type": "code",
   "execution_count": 90,
   "id": "7c07a114-b6c4-42f5-b5b0-729fae888653",
   "metadata": {},
   "outputs": [],
   "source": [
    "#Pool context with input of encoder and output of decoder \n",
    "#Perform self attention \n",
    "#Pass through feed forward then through decoder\n",
    "class Multi_Head_Attention_Pooling(keras.layers.Layer):\n",
    "    def __init__(self, num_heads, embed_dim, dropout):\n",
    "        super(Multi_Head_Attention_Pooling, self).__init__()\n",
    "        self.attention = keras.layers.MultiHeadAttention(num_heads = num_heads, key_dim = embed_dim)\n",
    "    \n",
    "    def Call(self, input_data, context):\n",
    "        attention_output = self.attention(input_data, context)\n",
    "        #Perform self attention after attention pooling \n",
    "        self_attention_output = self.attention(attention_output, attention_output)\n",
    "        return self_attention_output"
   ]
  },
  {
   "cell_type": "code",
   "execution_count": 91,
   "id": "2f439bcf-c832-4a3b-a4c7-e6538ae1b7b3",
   "metadata": {},
   "outputs": [],
   "source": [
    "class Decoder(keras.layers.Layer):\n",
    "    def __init__(self, num_heads, embed_dim, ff_dim, dropout, data, training, total_words, max_sentence_length):\n",
    "        super(Decoder, self).__init__()\n",
    "        #Masked positional embeddings\n",
    "        self.masked_position = MaskedTokenAndPositionEmbedding(max_sentence_length, total_words, embed_dim)\n",
    "        #Masked mutlihead attention\n",
    "        self.masked_transformer_block = MaskedTransformerBlock(embed_dim, num_heads, ff_dim, rate=0.1)\n",
    "        #Transformer block with enocder output and decoder input\n",
    "        self.transformer_block = Transformer_Block(num_heads, embed_dim, ff_dim, dropout)\n",
    "        \n",
    "    def Call(self, data, batch_size, n_dest, n_src, dtype, training, context):\n",
    "        #Masked position embeddings\n",
    "        masked_position_output = self.masked_position.Call(data)\n",
    "        #Create mask\n",
    "        create_mask = self.masked_transformer_block.Causal_Attention_Mask(self, batch_size, n_dest, n_src, dtype)\n",
    "        #Masked multi headed attention\n",
    "        masked_transfomer_block_output = self.masked_transformer_block(data, training)\n",
    "        #Transformer block with encoder output and decoder input\n",
    "        transformer_block_output = self.transformer_block.Call(pooling_output, training)"
   ]
  },
  {
   "cell_type": "code",
   "execution_count": 121,
   "id": "cb6c77cf-f7e0-4f8a-9768-5dbecb290529",
   "metadata": {},
   "outputs": [
    {
     "ename": "ValueError",
     "evalue": "Graph disconnected: cannot obtain value for tensor KerasTensor(type_spec=TensorSpec(shape=(None, 4, 20), dtype=tf.float32, name='input_20'), name='input_20', description=\"created by layer 'input_20'\") at layer \"encoder\". The following previous layers were accessed without issue: []",
     "output_type": "error",
     "traceback": [
      "\u001b[0;31m---------------------------------------------------------------------------\u001b[0m",
      "\u001b[0;31mValueError\u001b[0m                                Traceback (most recent call last)",
      "\u001b[0;32m/tmp/ipykernel_3113246/2049861988.py\u001b[0m in \u001b[0;36m<module>\u001b[0;34m\u001b[0m\n\u001b[1;32m     31\u001b[0m \u001b[0mpooling\u001b[0m \u001b[0;34m=\u001b[0m \u001b[0mMulti_Head_Attention_Pooling\u001b[0m\u001b[0;34m(\u001b[0m\u001b[0mnum_heads\u001b[0m\u001b[0;34m,\u001b[0m \u001b[0membed_dim\u001b[0m\u001b[0;34m,\u001b[0m \u001b[0mdropout\u001b[0m\u001b[0;34m)\u001b[0m\u001b[0;34m(\u001b[0m\u001b[0mdecoder\u001b[0m\u001b[0;34m)\u001b[0m\u001b[0;34m\u001b[0m\u001b[0;34m\u001b[0m\u001b[0m\n\u001b[1;32m     32\u001b[0m \u001b[0;34m\u001b[0m\u001b[0m\n\u001b[0;32m---> 33\u001b[0;31m \u001b[0mtransformer\u001b[0m \u001b[0;34m=\u001b[0m \u001b[0mkeras\u001b[0m\u001b[0;34m.\u001b[0m\u001b[0mModel\u001b[0m\u001b[0;34m(\u001b[0m\u001b[0minput_layer\u001b[0m\u001b[0;34m,\u001b[0m \u001b[0mpooling\u001b[0m\u001b[0;34m)\u001b[0m\u001b[0;34m\u001b[0m\u001b[0;34m\u001b[0m\u001b[0m\n\u001b[0m\u001b[1;32m     34\u001b[0m \u001b[0mkeras\u001b[0m\u001b[0;34m.\u001b[0m\u001b[0mutils\u001b[0m\u001b[0;34m.\u001b[0m\u001b[0mplot_model\u001b[0m\u001b[0;34m(\u001b[0m\u001b[0mtransformer\u001b[0m\u001b[0;34m,\u001b[0m\u001b[0mshow_shapes\u001b[0m\u001b[0;34m=\u001b[0m\u001b[0;32mTrue\u001b[0m\u001b[0;34m,\u001b[0m\u001b[0mexpand_nested\u001b[0m\u001b[0;34m=\u001b[0m\u001b[0;32mTrue\u001b[0m\u001b[0;34m)\u001b[0m\u001b[0;34m\u001b[0m\u001b[0;34m\u001b[0m\u001b[0m\n",
      "\u001b[0;32m/opt/conda/lib/python3.9/site-packages/tensorflow/python/training/tracking/base.py\u001b[0m in \u001b[0;36m_method_wrapper\u001b[0;34m(self, *args, **kwargs)\u001b[0m\n\u001b[1;32m    627\u001b[0m     \u001b[0mself\u001b[0m\u001b[0;34m.\u001b[0m\u001b[0m_self_setattr_tracking\u001b[0m \u001b[0;34m=\u001b[0m \u001b[0;32mFalse\u001b[0m  \u001b[0;31m# pylint: disable=protected-access\u001b[0m\u001b[0;34m\u001b[0m\u001b[0;34m\u001b[0m\u001b[0m\n\u001b[1;32m    628\u001b[0m     \u001b[0;32mtry\u001b[0m\u001b[0;34m:\u001b[0m\u001b[0;34m\u001b[0m\u001b[0;34m\u001b[0m\u001b[0m\n\u001b[0;32m--> 629\u001b[0;31m       \u001b[0mresult\u001b[0m \u001b[0;34m=\u001b[0m \u001b[0mmethod\u001b[0m\u001b[0;34m(\u001b[0m\u001b[0mself\u001b[0m\u001b[0;34m,\u001b[0m \u001b[0;34m*\u001b[0m\u001b[0margs\u001b[0m\u001b[0;34m,\u001b[0m \u001b[0;34m**\u001b[0m\u001b[0mkwargs\u001b[0m\u001b[0;34m)\u001b[0m\u001b[0;34m\u001b[0m\u001b[0;34m\u001b[0m\u001b[0m\n\u001b[0m\u001b[1;32m    630\u001b[0m     \u001b[0;32mfinally\u001b[0m\u001b[0;34m:\u001b[0m\u001b[0;34m\u001b[0m\u001b[0;34m\u001b[0m\u001b[0m\n\u001b[1;32m    631\u001b[0m       \u001b[0mself\u001b[0m\u001b[0;34m.\u001b[0m\u001b[0m_self_setattr_tracking\u001b[0m \u001b[0;34m=\u001b[0m \u001b[0mprevious_value\u001b[0m  \u001b[0;31m# pylint: disable=protected-access\u001b[0m\u001b[0;34m\u001b[0m\u001b[0;34m\u001b[0m\u001b[0m\n",
      "\u001b[0;32m/opt/conda/lib/python3.9/site-packages/keras/engine/functional.py\u001b[0m in \u001b[0;36m__init__\u001b[0;34m(self, inputs, outputs, name, trainable, **kwargs)\u001b[0m\n\u001b[1;32m    144\u001b[0m                   for t in tf.nest.flatten(inputs)]):\n\u001b[1;32m    145\u001b[0m         \u001b[0minputs\u001b[0m\u001b[0;34m,\u001b[0m \u001b[0moutputs\u001b[0m \u001b[0;34m=\u001b[0m \u001b[0mfunctional_utils\u001b[0m\u001b[0;34m.\u001b[0m\u001b[0mclone_graph_nodes\u001b[0m\u001b[0;34m(\u001b[0m\u001b[0minputs\u001b[0m\u001b[0;34m,\u001b[0m \u001b[0moutputs\u001b[0m\u001b[0;34m)\u001b[0m\u001b[0;34m\u001b[0m\u001b[0;34m\u001b[0m\u001b[0m\n\u001b[0;32m--> 146\u001b[0;31m     \u001b[0mself\u001b[0m\u001b[0;34m.\u001b[0m\u001b[0m_init_graph_network\u001b[0m\u001b[0;34m(\u001b[0m\u001b[0minputs\u001b[0m\u001b[0;34m,\u001b[0m \u001b[0moutputs\u001b[0m\u001b[0;34m)\u001b[0m\u001b[0;34m\u001b[0m\u001b[0;34m\u001b[0m\u001b[0m\n\u001b[0m\u001b[1;32m    147\u001b[0m \u001b[0;34m\u001b[0m\u001b[0m\n\u001b[1;32m    148\u001b[0m   \u001b[0;34m@\u001b[0m\u001b[0mtf\u001b[0m\u001b[0;34m.\u001b[0m\u001b[0m__internal__\u001b[0m\u001b[0;34m.\u001b[0m\u001b[0mtracking\u001b[0m\u001b[0;34m.\u001b[0m\u001b[0mno_automatic_dependency_tracking\u001b[0m\u001b[0;34m\u001b[0m\u001b[0;34m\u001b[0m\u001b[0m\n",
      "\u001b[0;32m/opt/conda/lib/python3.9/site-packages/tensorflow/python/training/tracking/base.py\u001b[0m in \u001b[0;36m_method_wrapper\u001b[0;34m(self, *args, **kwargs)\u001b[0m\n\u001b[1;32m    627\u001b[0m     \u001b[0mself\u001b[0m\u001b[0;34m.\u001b[0m\u001b[0m_self_setattr_tracking\u001b[0m \u001b[0;34m=\u001b[0m \u001b[0;32mFalse\u001b[0m  \u001b[0;31m# pylint: disable=protected-access\u001b[0m\u001b[0;34m\u001b[0m\u001b[0;34m\u001b[0m\u001b[0m\n\u001b[1;32m    628\u001b[0m     \u001b[0;32mtry\u001b[0m\u001b[0;34m:\u001b[0m\u001b[0;34m\u001b[0m\u001b[0;34m\u001b[0m\u001b[0m\n\u001b[0;32m--> 629\u001b[0;31m       \u001b[0mresult\u001b[0m \u001b[0;34m=\u001b[0m \u001b[0mmethod\u001b[0m\u001b[0;34m(\u001b[0m\u001b[0mself\u001b[0m\u001b[0;34m,\u001b[0m \u001b[0;34m*\u001b[0m\u001b[0margs\u001b[0m\u001b[0;34m,\u001b[0m \u001b[0;34m**\u001b[0m\u001b[0mkwargs\u001b[0m\u001b[0;34m)\u001b[0m\u001b[0;34m\u001b[0m\u001b[0;34m\u001b[0m\u001b[0m\n\u001b[0m\u001b[1;32m    630\u001b[0m     \u001b[0;32mfinally\u001b[0m\u001b[0;34m:\u001b[0m\u001b[0;34m\u001b[0m\u001b[0;34m\u001b[0m\u001b[0m\n\u001b[1;32m    631\u001b[0m       \u001b[0mself\u001b[0m\u001b[0;34m.\u001b[0m\u001b[0m_self_setattr_tracking\u001b[0m \u001b[0;34m=\u001b[0m \u001b[0mprevious_value\u001b[0m  \u001b[0;31m# pylint: disable=protected-access\u001b[0m\u001b[0;34m\u001b[0m\u001b[0;34m\u001b[0m\u001b[0m\n",
      "\u001b[0;32m/opt/conda/lib/python3.9/site-packages/keras/engine/functional.py\u001b[0m in \u001b[0;36m_init_graph_network\u001b[0;34m(self, inputs, outputs)\u001b[0m\n\u001b[1;32m    227\u001b[0m \u001b[0;34m\u001b[0m\u001b[0m\n\u001b[1;32m    228\u001b[0m     \u001b[0;31m# Keep track of the network's nodes and layers.\u001b[0m\u001b[0;34m\u001b[0m\u001b[0;34m\u001b[0m\u001b[0m\n\u001b[0;32m--> 229\u001b[0;31m     nodes, nodes_by_depth, layers, _ = _map_graph_network(\n\u001b[0m\u001b[1;32m    230\u001b[0m         self.inputs, self.outputs)\n\u001b[1;32m    231\u001b[0m     \u001b[0mself\u001b[0m\u001b[0;34m.\u001b[0m\u001b[0m_network_nodes\u001b[0m \u001b[0;34m=\u001b[0m \u001b[0mnodes\u001b[0m\u001b[0;34m\u001b[0m\u001b[0;34m\u001b[0m\u001b[0m\n",
      "\u001b[0;32m/opt/conda/lib/python3.9/site-packages/keras/engine/functional.py\u001b[0m in \u001b[0;36m_map_graph_network\u001b[0;34m(inputs, outputs)\u001b[0m\n\u001b[1;32m   1034\u001b[0m         \u001b[0;32mfor\u001b[0m \u001b[0mx\u001b[0m \u001b[0;32min\u001b[0m \u001b[0mtf\u001b[0m\u001b[0;34m.\u001b[0m\u001b[0mnest\u001b[0m\u001b[0;34m.\u001b[0m\u001b[0mflatten\u001b[0m\u001b[0;34m(\u001b[0m\u001b[0mnode\u001b[0m\u001b[0;34m.\u001b[0m\u001b[0mkeras_inputs\u001b[0m\u001b[0;34m)\u001b[0m\u001b[0;34m:\u001b[0m\u001b[0;34m\u001b[0m\u001b[0;34m\u001b[0m\u001b[0m\n\u001b[1;32m   1035\u001b[0m           \u001b[0;32mif\u001b[0m \u001b[0mid\u001b[0m\u001b[0;34m(\u001b[0m\u001b[0mx\u001b[0m\u001b[0;34m)\u001b[0m \u001b[0;32mnot\u001b[0m \u001b[0;32min\u001b[0m \u001b[0mcomputable_tensors\u001b[0m\u001b[0;34m:\u001b[0m\u001b[0;34m\u001b[0m\u001b[0;34m\u001b[0m\u001b[0m\n\u001b[0;32m-> 1036\u001b[0;31m             raise ValueError(\n\u001b[0m\u001b[1;32m   1037\u001b[0m                 \u001b[0;34mf'Graph disconnected: cannot obtain value for tensor {x} '\u001b[0m\u001b[0;34m\u001b[0m\u001b[0;34m\u001b[0m\u001b[0m\n\u001b[1;32m   1038\u001b[0m                 \u001b[0;34mf'at layer \"{layer.name}\". The following previous layers '\u001b[0m\u001b[0;34m\u001b[0m\u001b[0;34m\u001b[0m\u001b[0m\n",
      "\u001b[0;31mValueError\u001b[0m: Graph disconnected: cannot obtain value for tensor KerasTensor(type_spec=TensorSpec(shape=(None, 4, 20), dtype=tf.float32, name='input_20'), name='input_20', description=\"created by layer 'input_20'\") at layer \"encoder\". The following previous layers were accessed without issue: []"
     ]
    }
   ],
   "source": [
    "embed_dim = 512\n",
    "data = input_sequences\n",
    "training = True\n",
    "total_words = total_words\n",
    "max_sentence_length = max_sentence_length\n",
    "num_heads = 8\n",
    "ff_dim = 16\n",
    "dropout = 0.15\n",
    "\n",
    "encoder_stack = 6\n",
    "decoder_stack = 6\n",
    "\n",
    "\n",
    "input_layer = keras.layers.Input([4, 20])\n",
    "enocder = input_layer\n",
    "\n",
    "for i in range(encoder_stack):\n",
    "    encoder = Encoder(data, training, total_words, embed_dim, max_sentence_length, num_heads, ff_dim, dropout)(encoder)\n",
    "\n",
    "pooling = Multi_Head_Attention_Pooling(num_heads, embed_dim, dropout)(encoder)\n",
    "\n",
    "encoder = Encoder(data, training, total_words, embed_dim, max_sentence_length, num_heads, ff_dim, dropout)(pooling)\n",
    "decoder = encoder\n",
    "\n",
    "for i in range(decoder_stack):\n",
    "    decoder = Decoder(num_heads, embed_dim, ff_dim, dropout, data, training, total_words, max_sentence_length)(decoder)\n",
    "\n",
    "#For output proccesing->softmax, \n",
    "output = keras.layers.Dense(total_words)(decoder)\n",
    "\n",
    "pooling = Multi_Head_Attention_Pooling(num_heads, embed_dim, dropout)(decoder)\n",
    "\n",
    "transformer = keras.Model(input_layer, pooling)\n",
    "keras.utils.plot_model(transformer,show_shapes=True,expand_nested=True)"
   ]
  },
  {
   "cell_type": "code",
   "execution_count": null,
   "id": "9fde6918-3f73-48c8-a2fc-20d57996e2ee",
   "metadata": {},
   "outputs": [],
   "source": []
  }
 ],
 "metadata": {
  "kernelspec": {
   "display_name": "Python 3 (ipykernel)",
   "language": "python",
   "name": "python3"
  },
  "language_info": {
   "codemirror_mode": {
    "name": "ipython",
    "version": 3
   },
   "file_extension": ".py",
   "mimetype": "text/x-python",
   "name": "python",
   "nbconvert_exporter": "python",
   "pygments_lexer": "ipython3",
   "version": "3.9.7"
  }
 },
 "nbformat": 4,
 "nbformat_minor": 5
}
