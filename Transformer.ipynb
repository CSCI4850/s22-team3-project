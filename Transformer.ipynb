{
 "cells": [
  {
   "cell_type": "code",
   "execution_count": 23,
   "id": "055d219c-7ed3-4a4e-b8f0-a458410cb2a8",
   "metadata": {},
   "outputs": [
    {
     "name": "stdout",
     "output_type": "stream",
     "text": [
      "Note: you may need to restart the kernel to use updated packages.\n"
     ]
    }
   ],
   "source": [
    "pip install -q \"tensorflow-text==2.8.*\""
   ]
  },
  {
   "cell_type": "code",
   "execution_count": 24,
   "id": "4e194b59-cb00-408a-9d70-6c3d49e3f4c3",
   "metadata": {},
   "outputs": [],
   "source": [
    "import tensorflow as tf\n",
    "from tensorflow import keras\n",
    "from tensorflow.keras.preprocessing.text import Tokenizer\n",
    "import numpy as np\n",
    "import warnings\n",
    "warnings.filterwarnings('always')\n",
    "warnings.filterwarnings('ignore')"
   ]
  },
  {
   "cell_type": "code",
   "execution_count": 25,
   "id": "cb1a58c9-78c2-4baf-8a53-381718036a0d",
   "metadata": {},
   "outputs": [],
   "source": [
    "#Open data\n",
    "data_file = open('Data.txt').read()\n",
    "data_file\n",
    "\n",
    "#Create tokenizer object\n",
    "tokenizer = Tokenizer()\n",
    "\n",
    "#Convert data to lowercase\n",
    "data = data_file.lower().split('.')"
   ]
  },
  {
   "cell_type": "code",
   "execution_count": 36,
   "id": "edc4a1c9-4250-467c-b5dc-f59d2aadb659",
   "metadata": {},
   "outputs": [],
   "source": [
    "def Text_Vectorization(tokenizer, data, max_sentence_length):\n",
    "    #Create dictionary of words with the frequency they occur\n",
    "    #Every word gets unique value > 0\n",
    "    #0 is reserved for padding\n",
    "    tokenizer.fit_on_texts(data)\n",
    "\n",
    "    #Transforms sentences into set of integers from the dictionary\n",
    "    input_sequences = tokenizer.texts_to_sequences(data)\n",
    "    \n",
    "    #Pad sequences to length of max_length\n",
    "    input_sequences = tf.keras.preprocessing.sequence.pad_sequences(input_sequences, maxlen = max_sentence_length, padding ='post', value = 0)\n",
    "    \n",
    "    #Counts total words\n",
    "    total_words = len(tokenizer.word_index) + 1\n",
    "    \n",
    "    return total_words, input_sequences    "
   ]
  },
  {
   "cell_type": "code",
   "execution_count": 41,
   "id": "081c3d8a-97ea-49f4-8cad-293976b8dc71",
   "metadata": {},
   "outputs": [],
   "source": [
    "def Create_Output_Sequences(input_sequences):\n",
    "    #Shift array by one to create targets\n",
    "    #Last item is all 0s because it is not used\n",
    "    roll_amount = input_sequences.shape[1] * (input_sequences.shape[0]-1)\n",
    "    output_sequences = np.array(np.roll(input_sequences, roll_amount))\n",
    "    output_sequences[-1] = 0"
   ]
  },
  {
   "cell_type": "code",
   "execution_count": 47,
   "id": "419b14f4-2c47-4138-bc18-1ad2e2019e5c",
   "metadata": {},
   "outputs": [],
   "source": [
    "#Embed one input sentence at a time into a matrix of sentence length by embed_dim: 20x12\n",
    "def Embed_Inputs(sequences, total_words, embed_dim, max_sentence_length):\n",
    "    embedding_layer = keras.layers.Embedding(input_dim = total_words, output_dim = embed_dim, mask_zero = True, input_length = max_sentence_length)\n",
    "    embedded_words = embedding_layer(data)\n",
    "    return embedded_words"
   ]
  },
  {
   "cell_type": "code",
   "execution_count": null,
   "id": "caf80da7-962f-4502-a7a6-ffa2067643cf",
   "metadata": {},
   "outputs": [],
   "source": [
    "class Positional_Encoding():\n",
    "    def __init__(total_words, ):"
   ]
  }
 ],
 "metadata": {
  "kernelspec": {
   "display_name": "Python 3 (ipykernel)",
   "language": "python",
   "name": "python3"
  },
  "language_info": {
   "codemirror_mode": {
    "name": "ipython",
    "version": 3
   },
   "file_extension": ".py",
   "mimetype": "text/x-python",
   "name": "python",
   "nbconvert_exporter": "python",
   "pygments_lexer": "ipython3",
   "version": "3.9.7"
  }
 },
 "nbformat": 4,
 "nbformat_minor": 5
}
