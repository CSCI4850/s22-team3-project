{
 "cells": [
  {
   "cell_type": "code",
   "execution_count": 29,
   "id": "055d219c-7ed3-4a4e-b8f0-a458410cb2a8",
   "metadata": {},
   "outputs": [
    {
     "name": "stdout",
     "output_type": "stream",
     "text": [
      "Note: you may need to restart the kernel to use updated packages.\n"
     ]
    }
   ],
   "source": [
    "pip install -q \"tensorflow-text==2.8.*\""
   ]
  },
  {
   "cell_type": "code",
   "execution_count": 33,
   "id": "4e194b59-cb00-408a-9d70-6c3d49e3f4c3",
   "metadata": {},
   "outputs": [],
   "source": [
    "import tensorflow as tf\n",
    "from tensorflow import keras\n",
    "from tensorflow.keras.preprocessing.text import Tokenizer\n",
    "import numpy as np\n",
    "import warnings\n",
    "warnings.filterwarnings('always')\n",
    "warnings.filterwarnings('ignore')"
   ]
  },
  {
   "cell_type": "code",
   "execution_count": 35,
   "id": "cb1a58c9-78c2-4baf-8a53-381718036a0d",
   "metadata": {},
   "outputs": [],
   "source": [
    "#Open data\n",
    "data_file = open('Data.txt').read()\n",
    "data_file\n",
    "\n",
    "#Create tokenizer object\n",
    "tokenizer = Tokenizer()\n",
    "\n",
    "#Convert data to lowercase\n",
    "data = data_file.lower().split('.')"
   ]
  },
  {
   "cell_type": "code",
   "execution_count": 24,
   "id": "edc4a1c9-4250-467c-b5dc-f59d2aadb659",
   "metadata": {},
   "outputs": [],
   "source": [
    "def Text_Vectorization(tokenizer, data, max_sentence_length):\n",
    "    #Create dictionary of words with the frequency they occur\n",
    "    #Every word gets unique value > 0\n",
    "    #0 is reserved for padding\n",
    "    tokenizer.fit_on_texts(data)\n",
    "\n",
    "    #Transforms sentences into set of integers from the dictionary\n",
    "    input_sequences = tokenizer.texts_to_sequences(data)\n",
    "    \n",
    "    #Pad sequences to length of max_length\n",
    "    input_sequences = tf.keras.preprocessing.sequence.pad_sequences(input_sequences, maxlen = max_sentence_length, padding ='post', value = 0)\n",
    "    \n",
    "    #Counts total words\n",
    "    total_words = len(tokenizer.word_index) + 1\n",
    "    \n",
    "    return total_words, input_sequences    "
   ]
  },
  {
   "cell_type": "code",
   "execution_count": 25,
   "id": "081c3d8a-97ea-49f4-8cad-293976b8dc71",
   "metadata": {},
   "outputs": [],
   "source": [
    "def Create_Output_Sequences(input_sequences):\n",
    "    #Shift array by one to create targets\n",
    "    #Last item is all 0s because it is not used\n",
    "    roll_amount = input_sequences.shape[1] * (input_sequences.shape[0]-1)\n",
    "    output_sequences = np.array(np.roll(input_sequences, roll_amount))\n",
    "    output_sequences[-1] = 0"
   ]
  },
  {
   "cell_type": "code",
   "execution_count": 38,
   "id": "419b14f4-2c47-4138-bc18-1ad2e2019e5c",
   "metadata": {},
   "outputs": [],
   "source": [
    "#Embed one input sentence at a time into a matrix of sentence length by embed_dim\n",
    "#Adds position embeddings to word matrix\n",
    "class Embed_Inputs(keras.layers.Layer):\n",
    "    def __init__(self, total_words, embed_dim, max_sentence_length):\n",
    "        self.embedding_layer = keras.layers.Embedding(input_dim = total_words, output_dim = embed_dim, mask_zero = True, input_length = max_sentence_length)\n",
    "        self.positions_layer = keras.layers.position_embedding_layer(input_dim = max_sentence_length, output_dim = embed_dim)\n",
    "        \n",
    "    def Forward(self, data):\n",
    "        self.embedded_words = self.embedding_layer(data) + self.positions_layer(tf.range(max_sentence_length))\n",
    "        return self.embedded_words"
   ]
  },
  {
   "cell_type": "code",
   "execution_count": 40,
   "id": "6e92d255-0556-47c6-99a9-1bbea5c352f8",
   "metadata": {},
   "outputs": [],
   "source": [
    "class Transformer_Block(keras.layers.Layer):\n",
    "    def __init__(self, num_heads, embed_dim, ff_dim, dropout):\n",
    "        self.attention = keras.layers.MultiHeadAttention(num_heads = num_heads, key_dim = embed_dim)\n",
    "        self.layer_norm1 = keras.layers.LayerNormalization(epsilon = 1e-6)\n",
    "        self.feed_forward = keras.Sequential([keras.layers.Dense(ff_dim, activation = \"relu\"), keras.layers.Dense(embed_dim)])\n",
    "        self.layer_norm2 = keras.layers.LayerNormalization(1e-6)\n",
    "        self.dropout = keras.layers.dropout(dropout)\n",
    "        \n",
    "    def Forward(self, embedded_words, training):\n",
    "        attention_output = self.attention(embedded_words, embedded_words)\n",
    "        attention_output = self.dropout1(attention_output, training=training)\n",
    "        #Residual connections from input to add/norm\n",
    "        res1 = self.layer_norm1(embedded_words + attention_output)\n",
    "        ffn_output = self.feed_forward(res1)\n",
    "        ffn_output = self.dropout2(ffn_output, training=training)\n",
    "        #Residual connections from add/norm to add/norm\n",
    "        final_output = self.layer_norm2(ffn_output + res1)\n",
    "        return final_output"
   ]
  },
  {
   "cell_type": "code",
   "execution_count": 53,
   "id": "3dbcb98a-cff0-4eab-989d-9033b9c5a4b7",
   "metadata": {},
   "outputs": [],
   "source": [
    "class Encoder(keras.layers.Layer):\n",
    "    def __init__(self, data, training, total_words, embed_dim, max_sentence_length, num_heads, ff_dim, dropout):\n",
    "        self.embeddings = Embed_Inputs(total_words, embed_dim, max_sentence_length)\n",
    "        self.transformer_block = Transformer_Block(num_heads, embed_dim, ff_dim, dropout)\n",
    "        \n",
    "    def Forward(self, data):\n",
    "        embeddings_output = self.embeddings.Forward(data)\n",
    "        transformer_block_output = self.transformer_block.Forward(embeddings_output, training)\n",
    "        return transformer_block_output"
   ]
  },
  {
   "cell_type": "code",
   "execution_count": 42,
   "id": "2f439bcf-c832-4a3b-a4c7-e6538ae1b7b3",
   "metadata": {},
   "outputs": [],
   "source": [
    "class Decoder(keras.layers.Layer):\n",
    "    def __init__(self, num_heads, embed_dim, ff_dim, dropout,  data, training, total_words, max_sentence_length, num_heads):\n",
    "        #Masked positional embeddings\n",
    "        #Masked mutlihead attention\n",
    "        self.encoder = Encoder(data, training, total_words, embed_dim, max_sentence_length, num_heads, ff_dim, dropout)\n",
    "        self.transformer_block = Transformer_Block(num_heads, embed_dim, ff_dim, dropout)\n",
    "        \n",
    "    def Forward(self, ):\n",
    "        encoder_output = encoder.Forward(data)\n",
    "        #Pass through transformer block"
   ]
  },
  {
   "cell_type": "code",
   "execution_count": 43,
   "id": "9b128379-ab76-49b0-998a-7e42ac5695cc",
   "metadata": {},
   "outputs": [],
   "source": [
    "#class Transformer():\n",
    "#    def __init__():\n",
    "        #Input Embeddings\n",
    "        #Encoder\n",
    "            #Multi headed attention\n",
    "            #Feed forward\n",
    "        #Decoder\n",
    "            #Masked multi headed attention\n",
    "            #Multi headed attention\n",
    "            #Feed forward \n",
    "        #Feed forward\n",
    "        #Softmax"
   ]
  }
 ],
 "metadata": {
  "kernelspec": {
   "display_name": "Python 3 (ipykernel)",
   "language": "python",
   "name": "python3"
  },
  "language_info": {
   "codemirror_mode": {
    "name": "ipython",
    "version": 3
   },
   "file_extension": ".py",
   "mimetype": "text/x-python",
   "name": "python",
   "nbconvert_exporter": "python",
   "pygments_lexer": "ipython3",
   "version": "3.9.7"
  }
 },
 "nbformat": 4,
 "nbformat_minor": 5
}
