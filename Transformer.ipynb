{
 "cells": [
  {
   "cell_type": "code",
   "execution_count": 4,
   "id": "055d219c-7ed3-4a4e-b8f0-a458410cb2a8",
   "metadata": {},
   "outputs": [
    {
     "name": "stdout",
     "output_type": "stream",
     "text": [
      "Note: you may need to restart the kernel to use updated packages.\n"
     ]
    }
   ],
   "source": [
    "pip install -q \"tensorflow-text==2.8.*\""
   ]
  },
  {
   "cell_type": "code",
   "execution_count": 41,
   "id": "4e194b59-cb00-408a-9d70-6c3d49e3f4c3",
   "metadata": {},
   "outputs": [],
   "source": [
    "import tensorflow as tf\n",
    "from tensorflow import keras\n",
    "from tensorflow.keras.preprocessing.text import Tokenizer\n",
    "import numpy as np\n",
    "import warnings\n",
    "warnings.filterwarnings('always')\n",
    "warnings.filterwarnings('ignore')"
   ]
  },
  {
   "cell_type": "code",
   "execution_count": 42,
   "id": "cb1a58c9-78c2-4baf-8a53-381718036a0d",
   "metadata": {},
   "outputs": [],
   "source": [
    "#Open data\n",
    "data_file = open('Data.txt').read()\n",
    "data_file\n",
    "\n",
    "#Create tokenizer object\n",
    "tokenizer = Tokenizer()\n",
    "\n",
    "#Convert data to lowercase\n",
    "data = data_file.lower().split('.')"
   ]
  },
  {
   "cell_type": "code",
   "execution_count": 43,
   "id": "edc4a1c9-4250-467c-b5dc-f59d2aadb659",
   "metadata": {},
   "outputs": [],
   "source": [
    "def Text_Vectorization(tokenizer, data, max_sentence_length):\n",
    "    #Create dictionary of words with the frequency they occur\n",
    "    #Every word gets unique value > 0\n",
    "    #0 is reserved for padding\n",
    "    tokenizer.fit_on_texts(data)\n",
    "\n",
    "    #Transforms sentences into set of integers from the dictionary\n",
    "    input_sequences = tokenizer.texts_to_sequences(data)\n",
    "    \n",
    "    #Pad sequences to length of max_length\n",
    "    input_sequences = tf.keras.preprocessing.sequence.pad_sequences(input_sequences, maxlen = max_sentence_length, padding ='post', value = 0)\n",
    "    \n",
    "    #Counts total words\n",
    "    total_words = len(tokenizer.word_index) + 1\n",
    "    \n",
    "    return total_words, input_sequences    "
   ]
  },
  {
   "cell_type": "code",
   "execution_count": 44,
   "id": "081c3d8a-97ea-49f4-8cad-293976b8dc71",
   "metadata": {},
   "outputs": [],
   "source": [
    "def Create_Output_Sequences(input_sequences):\n",
    "    #Shift array by one to create targets\n",
    "    #Last item is all 0s because it is not used\n",
    "    roll_amount = input_sequences.shape[1] * (input_sequences.shape[0]-1)\n",
    "    output_sequences = np.array(np.roll(input_sequences, roll_amount))\n",
    "    output_sequences[-1] = 0"
   ]
  },
  {
   "cell_type": "code",
   "execution_count": 45,
   "id": "419b14f4-2c47-4138-bc18-1ad2e2019e5c",
   "metadata": {},
   "outputs": [],
   "source": [
    "#Embed one input sentence at a time into a matrix of sentence length by embed_dim\n",
    "#Adds position embeddings to word matrix\n",
    "class Embed_Inputs(keras.layers.Layer):\n",
    "    def __init__(self, total_words, embed_dim, max_sentence_length):\n",
    "        self.embedding_layer = keras.layers.Embedding(input_dim = total_words, output_dim = embed_dim, mask_zero = True, input_length = max_sentence_length)\n",
    "        self.positions_layer = keras.layers.position_embedding_layer(input_dim = max_sentence_length, output_dim = embed_dim)\n",
    "        \n",
    "    def Call(self, data):\n",
    "        self.embedded_words = self.embedding_layer(data) + self.positions_layer(tf.range(max_sentence_length))\n",
    "        return self.embedded_words"
   ]
  },
  {
   "cell_type": "code",
   "execution_count": 46,
   "id": "6e92d255-0556-47c6-99a9-1bbea5c352f8",
   "metadata": {},
   "outputs": [],
   "source": [
    "class Transformer_Block(keras.layers.Layer):\n",
    "    def __init__(self, num_heads, embed_dim, ff_dim, dropout):\n",
    "        self.attention = keras.layers.MultiHeadAttention(num_heads = num_heads, key_dim = embed_dim)\n",
    "        self.layer_norm1 = keras.layers.LayerNormalization(epsilon = 1e-6)\n",
    "        self.feed_forward = keras.Sequential([keras.layers.Dense(ff_dim, activation = \"relu\"), keras.layers.Dense(embed_dim)])\n",
    "        self.layer_norm2 = keras.layers.LayerNormalization(1e-6)\n",
    "        self.dropout = keras.layers.dropout(dropout)\n",
    "        \n",
    "    def Call(self, embedded_words, training):\n",
    "        attention_output = self.attention(embedded_words, embedded_words)\n",
    "        attention_output = self.dropout1(attention_output, training=training)\n",
    "        #Residual connections from input to add/norm\n",
    "        res1 = self.layer_norm1(embedded_words + attention_output)\n",
    "        ffn_output = self.feed_forward(res1)\n",
    "        ffn_output = self.dropout2(ffn_output, training=training)\n",
    "        #Residual connections from add/norm to add/norm\n",
    "        final_output = self.layer_norm2(ffn_output + res1)\n",
    "        return final_output"
   ]
  },
  {
   "cell_type": "code",
   "execution_count": 47,
   "id": "5650ff2b-af08-48d2-87ac-48cd5c7c55d4",
   "metadata": {},
   "outputs": [],
   "source": [
    "class MaskedTransformerBlock(keras.layers.Layer):\n",
    "    def __init__(self, embed_dim, num_heads, ff_dim, rate=0.1):\n",
    "        super(MaskedTransformerBlock, self).__init__()\n",
    "        self.att1 = keras.layers.MultiHeadAttention(num_heads=num_heads,\n",
    "        key_dim=embed_dim)\n",
    "        self.att2 = keras.layers.MultiHeadAttention(num_heads=num_heads,\n",
    "        key_dim=embed_dim)\n",
    "        self.ffn = keras.Sequential(\n",
    "        [keras.layers.Dense(ff_dim, activation=\"gelu\"),\n",
    "        keras.layers.Dense(embed_dim),]\n",
    "        )\n",
    "        self.layernorm1 = keras.layers.LayerNormalization(epsilon=1e-6)\n",
    "        self.layernorm2 = keras.layers.LayerNormalization(epsilon=1e-6)\n",
    "        self.layernorm3 = keras.layers.LayerNormalization(epsilon=1e-6)\n",
    "        self.dropout1 = keras.layers.Dropout(rate)\n",
    "        self.dropout2 = keras.layers.Dropout(rate)\n",
    "        self.dropout3 = keras.layers.Dropout(rate)\n",
    "        \n",
    "    def Causal_Attention_Mask(self, batch_size, n_dest, n_src, dtype):\n",
    "        i = tf.range(n_dest)[:, None]\n",
    "        j = tf.range(n_src)\n",
    "        m = i >= j - n_src + n_dest\n",
    "        mask = tf.cast(m, dtype)\n",
    "        mask = tf.reshape(mask, [1, n_dest, n_src])\n",
    "        mult = tf.concat(\n",
    "        [tf.expand_dims(batch_size, -1), tf.constant([1, 1], dtype=tf.int32)], 0\n",
    "        )\n",
    "        return tf.tile(mask, mult)\n",
    "\n",
    "    def Call(self, inputs, training):\n",
    "        input_shape = tf.shape(inputs[0])\n",
    "        batch_size = input_shape[0]\n",
    "        seq_len = input_shape[1]\n",
    "        mask = self.causal_attention_mask(batch_size,\n",
    "        seq_len, seq_len,\n",
    "        tf.bool)\n",
    "        attn_output1 = self.att1(inputs[0], inputs[0],\n",
    "        attention_mask = mask)\n",
    "        attn_output1 = self.dropout1(attn_output1, training=training)\n",
    "        out1 = self.layernorm1(inputs[0] + attn_output1)\n",
    "        attn_output2 = self.att2(out1, inputs[1])\n",
    "        attn_output2 = self.dropout2(attn_output2, training=training)\n",
    "        out2 = self.layernorm1(out1 + attn_output2)\n",
    "        ffn_output = self.ffn(out2)\n",
    "        ffn_output = self.dropout3(ffn_output, training=training)\n",
    "        return self.layernorm2(out2 + ffn_output)"
   ]
  },
  {
   "cell_type": "code",
   "execution_count": 48,
   "id": "6c145eb4-0c49-441e-94c6-86d653871b13",
   "metadata": {},
   "outputs": [],
   "source": [
    "class MaskedTokenAndPositionEmbedding(keras.layers.Layer):\n",
    "    def __init__(self, maxlen, vocab_size, embed_dim):\n",
    "        super(MaskedTokenAndPositionEmbedding, self).__init__()\n",
    "        self.token_emb = keras.layers.Embedding(input_dim=vocab_size,\n",
    "        output_dim=embed_dim,\n",
    "        mask_zero=True)\n",
    "        self.pos_emb = keras.layers.Embedding(input_dim=maxlen+1,\n",
    "        output_dim=embed_dim,\n",
    "        mask_zero=True)\n",
    "    def Call(self, x):\n",
    "        maxlen = tf.shape(x)[-1]\n",
    "        positions = tf.range(start=1, limit=maxlen+1, delta=1)\n",
    "        positions = positions * tf.cast(tf.sign(x),tf.int32)\n",
    "        positions = self.pos_emb(positions)\n",
    "        x = self.token_emb(x)\n",
    "        return x + positions"
   ]
  },
  {
   "cell_type": "code",
   "execution_count": 49,
   "id": "6e061221-b039-4282-b74d-5fae430d426d",
   "metadata": {},
   "outputs": [],
   "source": [
    "#Pool context with input of encoder and output of decoder \n",
    "#Perform self attention \n",
    "#Pass through feed forward then through decoder\n",
    "class Multi_Head_Attention_Pooling(keras.layers.Layer):\n",
    "    def __init__(self, num_heads, embed_dim, ff_dim, dropout):\n",
    "        self.attention = keras.layers.MultiHeadAttention(num_heads = num_heads, key_dim = embed_dim)\n",
    "        self.feed_forward = keras.Sequential([keras.layers.Dense(ff_dim, activation = \"relu\"), keras.layers.Dense(embed_dim)])\n",
    "        self.dropout = keras.layers.dropout(dropout)\n",
    "    \n",
    "    def Call(self, input_data, context):\n",
    "        attention_output = self.attention(input_data, context)\n",
    "        #Perform self attention after attention pooling \n",
    "        self_attention_output = self.attention(attention_output, attention_output)\n",
    "        attention_output = self.dropout1(attention_output, training=training)\n",
    "        ffn_output = self.feed_forward(res1)\n",
    "        ffn_output = self.dropout2(ffn_output, training=training)\n",
    "        return ffn_output "
   ]
  },
  {
   "cell_type": "code",
   "execution_count": 50,
   "id": "28f0c8c6-7ca7-4a72-a561-2a82347aecc9",
   "metadata": {},
   "outputs": [],
   "source": [
    "#First set of context vectors is randomized\n",
    "class Context(keras.layers.Layer):\n",
    "    def __init__(self, embed_dim, context_dim):\n",
    "        #Create vector of ramdom weights with size context_dim that is trainable\n",
    "        #self.context_vector = np.random.rand(embed_dim, context_dim)\n",
    "        self.attention_pooling = Multi_Head_Attention_Pooling(num_heads, embed_dim, ff_dim, dropout)\n",
    "    def Create_New_Context(self, input_data, context):\n",
    "        #Pool decoder output with previous context vector\n",
    "        pooling_output = self.attention_pooling.Call(input_data, context)\n",
    "        return pooling_output"
   ]
  },
  {
   "cell_type": "code",
   "execution_count": 51,
   "id": "3dbcb98a-cff0-4eab-989d-9033b9c5a4b7",
   "metadata": {
    "tags": []
   },
   "outputs": [],
   "source": [
    "class Encoder(keras.layers.Layer):\n",
    "    def __init__(self, data, training, total_words, embed_dim, max_sentence_length, num_heads, ff_dim, dropout):\n",
    "        self.embeddings = Embed_Inputs(total_words, embed_dim, max_sentence_length)\n",
    "        self.transformer_block = Transformer_Block(num_heads, embed_dim, ff_dim, dropout)\n",
    "        \n",
    "    def Call(self, data):\n",
    "        embeddings_output = self.embeddings.Forward(data)\n",
    "        transformer_block_output = self.transformer_block.Forward(embeddings_output, training)\n",
    "        return transformer_block_output"
   ]
  },
  {
   "cell_type": "code",
   "execution_count": 52,
   "id": "2f439bcf-c832-4a3b-a4c7-e6538ae1b7b3",
   "metadata": {},
   "outputs": [],
   "source": [
    "class Decoder(keras.layers.Layer):\n",
    "    def __init__(self, num_heads, embed_dim, ff_dim, dropout, data, training, total_words, max_sentence_length):\n",
    "        #Masked positional embeddings\n",
    "        self.masked_position = MaskedTokenAndPositionEmbedding(max_sentence_length, total_words, embed_dim)\n",
    "        #Masked mutlihead attention\n",
    "        self.masked_transformer_block = MaskedTransformerBlock(embed_dim, num_heads, ff_dim, rate=0.1)\n",
    "        #Encoder output\n",
    "        self.encoder = Encoder(data, training, total_words, embed_dim, max_sentence_length, num_heads, ff_dim, dropout)\n",
    "        #Attention pooling =\n",
    "        self.attention_pooling = Multi_Head_Attention_Pooling(num_heads, embed_dim, ff_dim, dropout)\n",
    "        #Transformer block with enocder output and decoder input\n",
    "        self.transformer_block = Transformer_Block(num_heads, embed_dim, ff_dim, dropout)\n",
    "        \n",
    "    def Call(self, data, batch_size, n_dest, n_src, dtype, training, context):\n",
    "        #Masked position embeddings\n",
    "        masked_position_output = self.masked_position.Call(data)\n",
    "        #Create mask\n",
    "        create_mask = self.masked_transformer_block.Causal_Attention_Mask(self, batch_size, n_dest, n_src, dtype)\n",
    "        #Masked multi headed attention\n",
    "        masked_transfomer_block_output = self.masked_transformer_block(data, training)\n",
    "        #Encoder Output\n",
    "        encoder_output = self.Encoder.Call(data)\n",
    "        #Perform attention pooling \n",
    "        pooling_output = self.attention_pooling(enocder_output, context)\n",
    "        #Transformer block with encoder output and decoder input\n",
    "        transformer_block_output = self.transformer_block.Call(pooling_output, training)"
   ]
  },
  {
   "cell_type": "code",
   "execution_count": 53,
   "id": "7797ef48-d6b1-4559-89cd-54316b28d605",
   "metadata": {},
   "outputs": [],
   "source": [
    "class Output(keras.layers.Layer):\n",
    "    def __init__(self, num_heads, embed_dim, ff_dim, dropout, data, training, total_words, max_sentence_length, context_dim):\n",
    "        self.decoder = Decoder(num_heads, embed_dim, ff_dim, dropout, data, training, total_words, max_sentence_length)\n",
    "        #??? self.linear = keras.layers.Dense()\n",
    "        #Softmax\n",
    "        self.context = Context(embed_dim, context_dim)\n",
    "    def Call(self, data, batch_size, n_dest, n_src, dtype, training, context):\n",
    "        decoder_output = self.decoder.Call(data, batch_size, n_dest, n_src, dtype, training, context)\n",
    "        #linear_output = self.linear(decoder_output)\n",
    "        #softmax_output = self.softmax(linear_output)\n",
    "    def Context(self, input_data, context):\n",
    "        new_context = self.context.Create_New_Context(input_data, context)\n",
    "        return new_context"
   ]
  }
 ],
 "metadata": {
  "kernelspec": {
   "display_name": "Python 3 (ipykernel)",
   "language": "python",
   "name": "python3"
  },
  "language_info": {
   "codemirror_mode": {
    "name": "ipython",
    "version": 3
   },
   "file_extension": ".py",
   "mimetype": "text/x-python",
   "name": "python",
   "nbconvert_exporter": "python",
   "pygments_lexer": "ipython3",
   "version": "3.9.7"
  }
 },
 "nbformat": 4,
 "nbformat_minor": 5
}
